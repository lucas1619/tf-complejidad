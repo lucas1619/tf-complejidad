{
  "nbformat": 4,
  "nbformat_minor": 0,
  "metadata": {
    "colab": {
      "name": "TP_Documentacion_Codigo.ipynb",
      "provenance": [],
      "include_colab_link": true
    },
    "kernelspec": {
      "name": "python3",
      "display_name": "Python 3"
    }
  },
  "cells": [
    {
      "cell_type": "markdown",
      "metadata": {
        "id": "view-in-github",
        "colab_type": "text"
      },
      "source": [
        "<a href=\"https://colab.research.google.com/github/lucas1619/tf-complejidad/blob/master/TP_Documentacion_Codigo.ipynb\" target=\"_parent\"><img src=\"https://colab.research.google.com/assets/colab-badge.svg\" alt=\"Open In Colab\"/></a>"
      ]
    },
    {
      "cell_type": "markdown",
      "metadata": {
        "id": "STqRtxg18xIJ"
      },
      "source": [
        "# Documentación del proyecto \"Quoridor\""
      ]
    },
    {
      "cell_type": "markdown",
      "metadata": {
        "id": "0gTR0mLK9v4A"
      },
      "source": [
        "### Desarrollo de la clase DoubleLinkedList\n",
        "Esta **clase** contiene la implementación de una **lista doblemente enlazada** con sus diferentes métodos, tales como insertar al principio, insertar al final, buscar por valor, eliminar al prinicipio y eliminar al final, esta clase nos servirá para implementar nuestra clase Tablero, la cual es el grafo."
      ]
    },
    {
      "cell_type": "code",
      "metadata": {
        "id": "83P8LuXT-jN0"
      },
      "source": [
        "import gc\n",
        "class Node:\n",
        "    def __init__(self, value=None):\n",
        "        self.value = value\n",
        "        self.next = None\n",
        "        self.prev = None\n",
        "class DoubleLinkedList:\n",
        "\n",
        "    def __init__(self):\n",
        "        self.start = Node()\n",
        "        self.end = Node()\n",
        "        self.size = 0\n",
        "    def __contains__(self, value):\n",
        "        aux = self.start\n",
        "        while aux != None:\n",
        "            if aux.value == value:\n",
        "                return True\n",
        "        aux = aux.next\n",
        "        return False\n",
        "    def __len__(self):\n",
        "        return self.size\n",
        "\n",
        "    def __iter__(self):\n",
        "        node = self.start\n",
        "        while node:\n",
        "            yield node.value\n",
        "            node = node.next\n",
        "\n",
        "    def push_front(self, value):\n",
        "        new = Node(value)\n",
        "        if self.size == 0:\n",
        "            self.start = self.end = new\n",
        "            self.size += 1\n",
        "            return\n",
        "        new.next = self.start\n",
        "        self.start.prev = new\n",
        "        self.start = new\n",
        "        self.size += 1\n",
        "\n",
        "    def push_back(self, value):\n",
        "        if self.size == 0:\n",
        "            self.push_front(value)\n",
        "            return\n",
        "        new = Node(value)\n",
        "        self.end.next = new\n",
        "        new.prev = self.end\n",
        "        self.end = new\n",
        "        self.size += 1\n",
        "\n",
        "    def insert(self, index, value):\n",
        "        if self.size == 0 or index == 0:\n",
        "            self.push_front(value)\n",
        "            return\n",
        "        if index == self.size - 1:\n",
        "            self.push_back(value)\n",
        "            return\n",
        "        if index < 0 or index >= self.size:\n",
        "            return\n",
        "        new = Node(value)\n",
        "        c = self.start\n",
        "        for i in range(index - 1):\n",
        "            c = c.next\n",
        "        new.next = c.next\n",
        "        c.next.prev = new\n",
        "        c.next = new\n",
        "        new.prev = c\n",
        "        self.size += 1\n",
        "\n",
        "    def pop_back(self):\n",
        "        if self.size <= 0:\n",
        "            return\n",
        "        if self.size == 1:\n",
        "            self.start = self.end = None\n",
        "            self.size -= 1\n",
        "            gc.collect()  # eliminar memoria sin referencia\n",
        "            return\n",
        "        self.end = self.end.prev\n",
        "        self.end.next.prev = None\n",
        "        self.end.next = None\n",
        "        self.size -= 1\n",
        "        gc.collect()  # eliminar memoria sin referencia\n",
        "\n",
        "    def pop_front(self):\n",
        "        if self.size <= 1:\n",
        "            self.pop_back()\n",
        "            return\n",
        "        self.start = self.start.next\n",
        "        self.start.prev.next = None\n",
        "        self.start.prev = None\n",
        "        self.size -= 1\n",
        "        gc.collect()\n",
        "\n",
        "    def delete(self, index):\n",
        "        # lo hacen uds, eliminar en una posicion :v\n",
        "        self.size -= 1\n",
        "\n",
        "    def erase(self, pos):\n",
        "        if pos < self.size and pos >= 0:\n",
        "            if (pos == 0):\n",
        "                self.pop_front()\n",
        "            elif pos == self.size:\n",
        "                self.pop_back()\n",
        "            else:\n",
        "                punt = self.start\n",
        "                contador = 0\n",
        "                while (contador != pos - 1):\n",
        "                    punt = punt.next\n",
        "                    contador += 1\n",
        "                    elimi = punt.next\n",
        "                punt.next = elimi.next\n",
        "                elimi.next = None\n",
        "                del elimi\n",
        "                self.size -= 1\n",
        "\n",
        "    def buscar_por_valor(self, valor):\n",
        "        contador = 0\n",
        "        punt = self.start\n",
        "        while (contador != self.size):\n",
        "            if punt.value == valor:\n",
        "                return contador\n",
        "            punt = punt.next\n",
        "            contador += 1\n",
        "        return -1\n"
      ],
      "execution_count": null,
      "outputs": []
    },
    {
      "cell_type": "markdown",
      "metadata": {
        "id": "I1N8LfLx-vdp"
      },
      "source": [
        "###Desarrollo de la clase Tablero\n",
        "\n",
        "Esta clase contiene el grafo para el juego, el grafo se compone de un vector de listas doblemente enlazadas, lo formamos así con el objetivo de tener un acceso $O(1)$ a los elementos y un insertado dinámico.\n",
        "\n",
        "La función $__init__$ inicializa el grafo, es aquí donde se hace cada conexión, la cual se representará en forma de una lista de adyacencia.\n",
        "\n"
      ]
    },
    {
      "cell_type": "code",
      "metadata": {
        "id": "noOVSRn5_4yU"
      },
      "source": [
        "class Tablero:\n",
        "    def __init__(self, n):\n",
        "        self.tam = 792/n\n",
        "        self.n = n\n",
        "        self.q_nodos = n * n\n",
        "        self.grafo = [DoubleLinkedList() for i in range(self.q_nodos)]\n",
        "        for i, nodo in enumerate(self.grafo):\n",
        "            if i % n != n - 1:\n",
        "                self.grafo[i].push_back(i + 1)\n",
        "                self.grafo[i + 1].push_back(i)\n",
        "            if i + n < n * n:\n",
        "                self.grafo[i].push_back(i + n)\n",
        "                self.grafo[i + n].push_back(i)\n",
        "    "
      ],
      "execution_count": null,
      "outputs": []
    },
    {
      "cell_type": "markdown",
      "metadata": {
        "id": "JyuL7FEWAFfg"
      },
      "source": [
        "La función $_get_coord_$ que recibe como parametro un valor obtiene ...."
      ]
    },
    {
      "cell_type": "code",
      "metadata": {
        "id": "wLbEInSDBVAk"
      },
      "source": [
        "    def get_coord(self, value):\n",
        "          coord = {\"x\": None, \"y\": None}\n",
        "          coord['y'] =  value//self.n\n",
        "          coord['x'] = value %self.n\n",
        "          return coord "
      ],
      "execution_count": null,
      "outputs": []
    },
    {
      "cell_type": "markdown",
      "metadata": {
        "id": "St1RusvmBdqT"
      },
      "source": [
        "La función $graficar_tablero_$ que recibe como parametros a la pantalla y a la librería pygame ...."
      ]
    },
    {
      "cell_type": "code",
      "metadata": {
        "id": "Dvacwk_xBpGr"
      },
      "source": [
        "    def graficar_tablero(self, pantalla, pygame):\n",
        "          coord = None\n",
        "          for i, _ in enumerate(self.grafo):\n",
        "              coord = self.get_coord(i)\n",
        "              pygame.draw.rect(pantalla, negro, (coord['x']*self.tam, coord['y']*self.tam, self.tam, self.tam), 1)\n"
      ],
      "execution_count": null,
      "outputs": []
    },
    {
      "cell_type": "markdown",
      "metadata": {
        "id": "f2WVmNVKB8VA"
      },
      "source": [
        "Por último, la funcion $conectados_$ que recibe dos nodos como atributo determina si un nodo está conectado con el otro, debido a que el grafo tiene forma de matriz, si un nodo1 está conectado con un nodo2, el nodo2 también estará conectado con el nodo 1."
      ]
    },
    {
      "cell_type": "code",
      "metadata": {
        "id": "nTGzirz-B8cv"
      },
      "source": [
        "    def conectados(self,nodo1,nodo2):\n",
        "          return nodo2 in self.grafo[nodo1]"
      ],
      "execution_count": null,
      "outputs": []
    },
    {
      "cell_type": "markdown",
      "metadata": {
        "id": "980BQme-KAbV"
      },
      "source": [
        "###Desarrollo de la clase Tablero"
      ]
    }
  ]
}