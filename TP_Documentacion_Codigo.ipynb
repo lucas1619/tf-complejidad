{
  "nbformat": 4,
  "nbformat_minor": 0,
  "metadata": {
    "colab": {
      "name": "TP_Documentacion_Codigo.ipynb",
      "provenance": [],
      "include_colab_link": true
    },
    "kernelspec": {
      "name": "python3",
      "display_name": "Python 3"
    }
  },
  "cells": [
    {
      "cell_type": "markdown",
      "metadata": {
        "id": "view-in-github",
        "colab_type": "text"
      },
      "source": [
        "<a href=\"https://colab.research.google.com/github/lucas1619/tf-complejidad/blob/master/TP_Documentacion_Codigo.ipynb\" target=\"_parent\"><img src=\"https://colab.research.google.com/assets/colab-badge.svg\" alt=\"Open In Colab\"/></a>"
      ]
    },
    {
      "cell_type": "markdown",
      "metadata": {
        "id": "STqRtxg18xIJ"
      },
      "source": [
        "# Documentación del proyecto \"Quoridor\""
      ]
    },
    {
      "cell_type": "markdown",
      "metadata": {
        "id": "0gTR0mLK9v4A"
      },
      "source": [
        "### Desarrollo de la clase DoubleLinkedList\n",
        "Esta **clase** contiene la implementación de una **lista doblemente enlazada** con sus diferentes métodos, tales como insertar al principio, insertar al final, buscar por valor, eliminar al prinicipio y eliminar al final, esta clase nos servirá para implementar nuestra clase Tablero, la cual es el grafo."
      ]
    },
    {
      "cell_type": "code",
      "metadata": {
        "id": "83P8LuXT-jN0"
      },
      "source": [
        "import gc\n",
        "class Node:\n",
        "    def __init__(self, value=None):\n",
        "        self.value = value\n",
        "        self.next = None\n",
        "        self.prev = None\n",
        "class DoubleLinkedList:\n",
        "\n",
        "    def __init__(self):\n",
        "        self.start = Node()\n",
        "        self.end = Node()\n",
        "        self.size = 0\n",
        "    def __contains__(self, value):\n",
        "        aux = self.start\n",
        "        while aux != None:\n",
        "            if aux.value == value:\n",
        "                return True\n",
        "        aux = aux.next\n",
        "        return False\n",
        "    def __len__(self):\n",
        "        return self.size\n",
        "\n",
        "    def __iter__(self):\n",
        "        node = self.start\n",
        "        while node:\n",
        "            yield node.value\n",
        "            node = node.next\n",
        "\n",
        "    def push_front(self, value):\n",
        "        new = Node(value)\n",
        "        if self.size == 0:\n",
        "            self.start = self.end = new\n",
        "            self.size += 1\n",
        "            return\n",
        "        new.next = self.start\n",
        "        self.start.prev = new\n",
        "        self.start = new\n",
        "        self.size += 1\n",
        "\n",
        "    def push_back(self, value):\n",
        "        if self.size == 0:\n",
        "            self.push_front(value)\n",
        "            return\n",
        "        new = Node(value)\n",
        "        self.end.next = new\n",
        "        new.prev = self.end\n",
        "        self.end = new\n",
        "        self.size += 1\n",
        "\n",
        "    def insert(self, index, value):\n",
        "        if self.size == 0 or index == 0:\n",
        "            self.push_front(value)\n",
        "            return\n",
        "        if index == self.size - 1:\n",
        "            self.push_back(value)\n",
        "            return\n",
        "        if index < 0 or index >= self.size:\n",
        "            return\n",
        "        new = Node(value)\n",
        "        c = self.start\n",
        "        for i in range(index - 1):\n",
        "            c = c.next\n",
        "        new.next = c.next\n",
        "        c.next.prev = new\n",
        "        c.next = new\n",
        "        new.prev = c\n",
        "        self.size += 1\n",
        "\n",
        "    def pop_back(self):\n",
        "        if self.size <= 0:\n",
        "            return\n",
        "        if self.size == 1:\n",
        "            self.start = self.end = None\n",
        "            self.size -= 1\n",
        "            gc.collect()  # eliminar memoria sin referencia\n",
        "            return\n",
        "        self.end = self.end.prev\n",
        "        self.end.next.prev = None\n",
        "        self.end.next = None\n",
        "        self.size -= 1\n",
        "        gc.collect()  # eliminar memoria sin referencia\n",
        "\n",
        "    def pop_front(self):\n",
        "        if self.size <= 1:\n",
        "            self.pop_back()\n",
        "            return\n",
        "        self.start = self.start.next\n",
        "        self.start.prev.next = None\n",
        "        self.start.prev = None\n",
        "        self.size -= 1\n",
        "        gc.collect()\n",
        "\n",
        "    def delete(self, index):\n",
        "        # lo hacen uds, eliminar en una posicion :v\n",
        "        self.size -= 1\n",
        "\n",
        "    def erase(self, pos):\n",
        "        if pos < self.size and pos >= 0:\n",
        "            if (pos == 0):\n",
        "                self.pop_front()\n",
        "            elif pos == self.size:\n",
        "                self.pop_back()\n",
        "            else:\n",
        "                punt = self.start\n",
        "                contador = 0\n",
        "                while (contador != pos - 1):\n",
        "                    punt = punt.next\n",
        "                    contador += 1\n",
        "                    elimi = punt.next\n",
        "                punt.next = elimi.next\n",
        "                elimi.next = None\n",
        "                del elimi\n",
        "                self.size -= 1\n",
        "\n",
        "    def buscar_por_valor(self, valor):\n",
        "        contador = 0\n",
        "        punt = self.start\n",
        "        while (contador != self.size):\n",
        "            if punt.value == valor:\n",
        "                return contador\n",
        "            punt = punt.next\n",
        "            contador += 1\n",
        "        return -1\n"
      ],
      "execution_count": null,
      "outputs": []
    },
    {
      "cell_type": "markdown",
      "metadata": {
        "id": "I1N8LfLx-vdp"
      },
      "source": [
        "###Desarrollo de la clase Tablero\n",
        "\n",
        "Esta clase contiene el grafo para el juego, el grafo se compone de un vector de listas doblemente enlazadas, lo formamos así con el objetivo de tener un acceso $O(1)$ a los elementos y un insertado dinámico.\n",
        "\n",
        "La función $__init__$ inicializa el grafo, es aquí donde se hace cada conexión, la cual se representará en forma de una lista de adyacencia.\n",
        "\n"
      ]
    },
    {
      "cell_type": "code",
      "metadata": {
        "id": "noOVSRn5_4yU"
      },
      "source": [
        "class Tablero:\n",
        "    def __init__(self, n):\n",
        "        self.tam = 792/n\n",
        "        self.n = n\n",
        "        self.q_nodos = n * n\n",
        "        self.grafo = [DoubleLinkedList() for i in range(self.q_nodos)]\n",
        "        for i, nodo in enumerate(self.grafo):\n",
        "            if i % n != n - 1:\n",
        "                self.grafo[i].push_back(i + 1)\n",
        "                self.grafo[i + 1].push_back(i)\n",
        "            if i + n < n * n:\n",
        "                self.grafo[i].push_back(i + n)\n",
        "                self.grafo[i + n].push_back(i)\n",
        "    "
      ],
      "execution_count": null,
      "outputs": []
    },
    {
      "cell_type": "markdown",
      "metadata": {
        "id": "JyuL7FEWAFfg"
      },
      "source": [
        "La función $_get_coord_$ que recibe como parametro un valor obtiene ...."
      ]
    },
    {
      "cell_type": "code",
      "metadata": {
        "id": "wLbEInSDBVAk"
      },
      "source": [
        "    def get_coord(self, value):\n",
        "          coord = {\"x\": None, \"y\": None}\n",
        "          coord['y'] =  value//self.n\n",
        "          coord['x'] = value %self.n\n",
        "          return coord "
      ],
      "execution_count": null,
      "outputs": []
    },
    {
      "cell_type": "markdown",
      "metadata": {
        "id": "St1RusvmBdqT"
      },
      "source": [
        "La función $graficar_tablero_$ que recibe como parametros a la pantalla y a la librería pygame ...."
      ]
    },
    {
      "cell_type": "code",
      "metadata": {
        "id": "Dvacwk_xBpGr"
      },
      "source": [
        "    def graficar_tablero(self, pantalla, pygame):\n",
        "          coord = None\n",
        "          for i, _ in enumerate(self.grafo):\n",
        "              coord = self.get_coord(i)\n",
        "              pygame.draw.rect(pantalla, negro, (coord['x']*self.tam, coord['y']*self.tam, self.tam, self.tam), 1)\n"
      ],
      "execution_count": null,
      "outputs": []
    },
    {
      "cell_type": "markdown",
      "metadata": {
        "id": "f2WVmNVKB8VA"
      },
      "source": [
        "Por último, la funcion $conectados_$ que recibe dos nodos como atributo determina si un nodo está conectado con el otro, debido a que el grafo tiene forma de matriz, si un nodo1 está conectado con un nodo2, el nodo2 también estará conectado con el nodo 1."
      ]
    },
    {
      "cell_type": "code",
      "metadata": {
        "id": "nTGzirz-B8cv"
      },
      "source": [
        "    def conectados(self,nodo1,nodo2):\n",
        "          return nodo2 in self.grafo[nodo1]"
      ],
      "execution_count": null,
      "outputs": []
    },
    {
      "cell_type": "markdown",
      "metadata": {
        "id": "980BQme-KAbV"
      },
      "source": [
        "###Desarrollo de la clase Quoridor\n",
        "Este contiene el juego donde se inicializa con la cantidad de jugadores y renderiza la parte gráfica "
      ]
    },
    {
      "cell_type": "markdown",
      "metadata": {
        "id": "2xRVMsF3Nfdl"
      },
      "source": [
        "La función $__init__$ recibe como parametro el grafo, el lado del grafo n, la cantidad de jugadores. El cual se encarga de inicializar el juego Quoridor con la cantidad de jugadores y la posición en la que iniciaran. Ademas de determinar el turno de cada jugador"
      ]
    },
    {
      "cell_type": "code",
      "metadata": {
        "id": "0JrmpkuvNX70"
      },
      "source": [
        "    def __init__(self, n, qjugadores):\n",
        "        self.turno = 0\n",
        "        self.tablero = Tablero(n)\n",
        "        self.ganador = False\n",
        "        self.lista_de_jugadores = []\n",
        "        self.lista_de_jugadores.append(\n",
        "            Jugador(1, self.tablero.grafo, self.tablero.n // 2, (self.tablero.q_nodos - self.tablero.n // 2)))\n",
        "        self.lista_de_jugadores.append(\n",
        "            Jugador(1, self.tablero.grafo, (self.tablero.q_nodos - self.tablero.n // 2) , self.tablero.n // 2))\n",
        "        if qjugadores == 4:\n",
        "            self.lista_de_jugadores.append(\n",
        "                Jugador(1, self.tablero.grafo, (self.tablero.n * (self.tablero.n / 2 + 1)) - 1,\n",
        "                        (self.tablero.n * (self.tablero.n / 2 + 1)) - self.tablero.n))\n",
        "            self.lista_de_jugadores.append(\n",
        "                Jugador(3, self.tablero.grafo, (self.tablero.n * (self.tablero.n / 2 + 1)) - self.tablero.n,\n",
        "                        (self.tablero.n * (self.tablero.n / 2 + 1)) - 1))"
      ],
      "execution_count": null,
      "outputs": []
    },
    {
      "cell_type": "markdown",
      "metadata": {
        "id": "WvLg-jeGNaDe"
      },
      "source": [
        "La función $_start_$ recibe como parametro el grafo se encarga de renderizar el tablero con los jugadores gracias a la libreria Pygames\n"
      ]
    },
    {
      "cell_type": "code",
      "metadata": {
        "id": "wWR9-gA5OZC1"
      },
      "source": [
        "def start(self):\n",
        "        pygame.init()\n",
        "        pygame.display.set_caption(u'Quoridor')\n",
        "        pantalla = pygame.display.set_mode((792, 792))\n",
        "        clock = pygame.time.Clock()\n",
        "        is_running = True\n",
        "        pantalla.fill(blanco)\n",
        "        self.tablero.graficar_tablero(pantalla, pygame)\n",
        "        for i, jugador in enumerate(self.lista_de_jugadores):\n",
        "            jugador.graficar(pantalla, pygame, self.tablero.n, self.tablero.tam,colores[i])\n",
        "        pygame.display.update()\n",
        "        pygame.time.wait(3000)  \n",
        "        while is_running:\n",
        "            \n",
        "            if(self.ganador == True):\n",
        "                break\n",
        "            clock.tick(1)\n",
        "            for event in pygame.event.get():\n",
        "                if event.type == pygame.QUIT:\n",
        "                    is_running = False  \n",
        "            pantalla.fill(blanco)\n",
        "            self.tablero.graficar_tablero(pantalla, pygame)\n",
        "            for i, jugador in enumerate(self.lista_de_jugadores):\n",
        "                jugador.graficar(pantalla, pygame, self.tablero.n, self.tablero.tam,colores[i])\n",
        "            self.lista_de_jugadores[self.turno].piensa(self.lista_de_jugadores[(self.turno + 1) % 2], self.tablero)\n",
        "            self.ganador = self.lista_de_jugadores[self.turno].mueve(self.lista_de_jugadores[(self.turno + 1) % 2], self.tablero)\n",
        "            self.turno = (self.turno + 1) % 2\n",
        "            pygame.display.update()\n",
        "\n",
        "        pantalla.fill(blanco)\n",
        "        self.tablero.graficar_tablero(pantalla, pygame)\n",
        "        for i, jugador in enumerate(self.lista_de_jugadores):\n",
        "            jugador.graficar(pantalla, pygame, self.tablero.n, self.tablero.tam,colores[i])\n",
        "        pygame.display.update()        \n",
        "        pygame.time.wait(3000)                              \n",
        "        pygame.quit()        "
      ],
      "execution_count": null,
      "outputs": []
    },
    {
      "cell_type": "markdown",
      "metadata": {
        "id": "STQIcbkOOuX0"
      },
      "source": [
        "###Desarrollo de la clase Pensamiento\n",
        "\n",
        "Se encarga de m\n",
        "\n"
      ]
    },
    {
      "cell_type": "markdown",
      "metadata": {
        "id": "D-4zWlsxO3is"
      },
      "source": [
        ""
      ]
    },
    {
      "cell_type": "code",
      "metadata": {
        "id": "NDFmdvhkOyf2"
      },
      "source": [
        "def __init__(self, Grafo, indica):\n",
        "        self.grafo = Grafo\n",
        "        self.indica = indica"
      ],
      "execution_count": null,
      "outputs": []
    },
    {
      "cell_type": "markdown",
      "metadata": {
        "id": "LLSrpYWgPA4N"
      },
      "source": [
        "Se encarga de actualizar la ruta $_actualiza_ruta_$ "
      ]
    },
    {
      "cell_type": "code",
      "metadata": {
        "id": "pAQI3Lc7PBE1"
      },
      "source": [
        "def actualiza_ruta(self, start, end):\n",
        "        if self.indica == 1:\n",
        "            return self.bellman_ford(start, end)\n",
        "        elif self.indica == 2:\n",
        "            return self.dijkstra(start, end)\n",
        "        else:\n",
        "            return self.astar(start, end)"
      ],
      "execution_count": null,
      "outputs": []
    },
    {
      "cell_type": "markdown",
      "metadata": {
        "id": "UpjKGl0lPCkW"
      },
      "source": [
        "Algoritmo dijstra es uno de los algortimos de búsqueda de camino mas corto que usamos $_dijstra_$  tiene como parametros el grafo y los nodos que representan el start y el end "
      ]
    },
    {
      "cell_type": "code",
      "metadata": {
        "id": "xjRk2hgnPCyF"
      },
      "source": [
        "def dijsktra(self, Nodos):\n",
        "\n",
        "     S = []\n",
        "     Queue = []\n",
        "     anterior = [0 for i in range(max(grafo) +1)]\n",
        "     distancia = [0 for i in range(max(grafo) +1)]\n",
        "\n",
        "     for nodo in grafo:\n",
        "         distancia[nodo] = 10000\n",
        "         Queue.append(nodo)\n",
        "     distancia[Nodos[0]] = 0\n",
        "\n",
        "     while not len(Queue) == 0:\n",
        "        distancia_minima = 10000\n",
        "        for nodo in Queue:\n",
        "            if distancia[nodo] < distancia_minima:\n",
        "                distancia_minima = distancia[nodo]\n",
        "                nodo_temporal = nodo\n",
        "        nodo_distancia_minima = nodo_temporal\n",
        "        Queue.remove(nodo_distancia_minima)\n",
        "\n",
        "        for vecino in grafo[nodo_distancia_minima]:\n",
        "            if distancia[nodo_distancia_minima] == 10000:\n",
        "                distancia_temporal = 0\n",
        "            else:\n",
        "                distancia_temporal = distancia[nodo_distancia_minima]\n",
        "            distancia_con_peso = distancia_temporal + 1\n",
        "            if distancia_con_peso < distancia[vecino]:\n",
        "                distancia[vecino] = distancia_con_peso\n",
        "                anterior[vecino] = nodo_distancia_minima\n",
        "\n",
        "        if nodo_distancia_minima == Nodos[1]:\n",
        "            if anterior[nodo_distancia_minima] != 0 or nodo_distancia_minima == Nodos[0]:\n",
        "                while nodo_distancia_minima != 0:\n",
        "                    S.insert(0, nodo_distancia_minima)\n",
        "                    nodo_distancia_minima = anterior[nodo_distancia_minima]\n",
        "                return S          "
      ],
      "execution_count": null,
      "outputs": []
    },
    {
      "cell_type": "markdown",
      "metadata": {
        "id": "90Zv4i7TPE9u"
      },
      "source": [
        "Algoritmo bellman_ford es uno de los algortimos de búsqueda de camino mas corto que usamos $_bellman_ford_$  tiene como parametros el grafo y el inicio y fin de los nodos. "
      ]
    },
    {
      "cell_type": "code",
      "metadata": {
        "id": "a_3BE4h6PFHW"
      },
      "source": [
        "def bellman_ford(self, start, end):\n",
        "        ruta = DoubleLinkedList()\n",
        "        ruta.push_front(end)\n",
        "\n",
        "        distancia = [float(\"Inf\") for x in range(len(self.grafo))]\n",
        "\n",
        "        previo = [-1 for x in range(len(self.grafo))]\n",
        "        distancia[start] = 0\n",
        "        for iteracion in range(len(self.grafo) - 1):\n",
        "            for actual, nodo in enumerate(self.grafo):\n",
        "                for adyacente in nodo:\n",
        "                    if distancia[actual] + 1 < distancia[adyacente]:\n",
        "                        distancia[adyacente] = distancia[actual] + 1\n",
        "                        previo[adyacente] = actual\n",
        "        anterior = previo[end]\n",
        "        while anterior != start:\n",
        "            ruta.push_front(anterior)\n",
        "            anterior = previo[anterior]\n",
        "        return list(ruta)"
      ],
      "execution_count": null,
      "outputs": []
    },
    {
      "cell_type": "markdown",
      "metadata": {
        "id": "lflXL590PIdt"
      },
      "source": [
        "Algoritmo astar es uno de los algortimos de búsqueda de camino mas corto que usamos $_astar_$  tiene como parametros el grafo y el inicio y fin de los nodos. "
      ]
    },
    {
      "cell_type": "code",
      "metadata": {
        "id": "uQCRi4gDPIq_"
      },
      "source": [
        "def astar(self, start, goal):  # self.n\n",
        "\n",
        "        def heuristic(current, goal):\n",
        "            h = abs(current[0] - goal[0]) + abs(current[1] - goal[1])\n",
        "            return float(h)\n",
        "\n",
        "        def get_heuristic_value(node):\n",
        "            return node.globhal\n",
        "\n",
        "        current = start\n",
        "        c = start % self.grafo.n + start // self.grafo.n\n",
        "        f = start // self.grafo.n\n",
        "        c1 = goal % self.grafo.n + goal // self.grafo.n\n",
        "        f1 = goal // self.grafo.n\n",
        "        grafoo = [Node_Astar(i) for i in range(self.grafo.n * self.grafo.n)]\n",
        "        grafoo[start].local = 0.0\n",
        "        grafoo[start].globhal = heuristic((c, f), (c1, f1))\n",
        "        not_tested_nodes = [grafoo[start]]\n",
        "        ruta = []\n",
        "\n",
        "        while len(not_tested_nodes) != 0 and current != goal:\n",
        "\n",
        "            not_tested_nodes.sort(key=get_heuristic_value)\n",
        "\n",
        "            while len(not_tested_nodes) != 0 and not_tested_nodes[0].visited:\n",
        "                not_tested_nodes.pop(0)\n",
        "\n",
        "            if len(not_tested_nodes) == 0:\n",
        "                break\n",
        "\n",
        "            current = not_tested_nodes[0].pos\n",
        "            ruta.append(grafoo[current].padre)\n",
        "            not_tested_nodes[0].visited = True\n",
        "\n",
        "            for neighbor in self.grafo[current]:\n",
        "\n",
        "                if not grafoo[neighbor].visited:\n",
        "                    not_tested_nodes.append(grafoo[neighbor])\n",
        "\n",
        "                sum = float(grafoo[current].local + 1)\n",
        "\n",
        "                if sum < grafoo[neighbor].local:\n",
        "                    grafoo[neighbor].padre = current\n",
        "                    grafoo[neighbor].local = sum\n",
        "                    c = neighbor % self.grafo.n + neighbor // self.grafo.n\n",
        "                    f = neighbor // self.grafo.n\n",
        "                    grafoo[neighbor].globhal = grafoo[neighbor].local + \\\n",
        "                        heuristic((c, f), (c1, f1))\n",
        "\n",
        "        ruta.append(goal)\n",
        "        ruta.pop(0)\n",
        "        return ruta"
      ],
      "execution_count": null,
      "outputs": []
    },
    {
      "cell_type": "markdown",
      "metadata": {
        "id": "8n-eS8-NWwB5"
      },
      "source": [
        "### Desarrollo de la clase Jugador\n"
      ]
    },
    {
      "cell_type": "markdown",
      "metadata": {
        "id": "hK1F8AMPW5qY"
      },
      "source": [
        "Función $_init_$ recibe como parámetros al grafo, la variable indicar, g "
      ]
    },
    {
      "cell_type": "code",
      "metadata": {
        "id": "MM_gSpn4W5-v"
      },
      "source": [
        "  def __init__(self, indica, Grafo, nodostart, nodogoal):\n",
        "        self.nodogoal = nodogoal\n",
        "        self.pensamiento = Pensamiento(Grafo, indica)\n",
        "        self.lista_ruta = []\n",
        "        self.lista_ruta_rival = []\n",
        "        self.current = nodostart\n",
        "        self.primero = True"
      ],
      "execution_count": null,
      "outputs": []
    },
    {
      "cell_type": "markdown",
      "metadata": {
        "id": "R3s7I8j3W9iH"
      },
      "source": [
        ""
      ]
    },
    {
      "cell_type": "code",
      "metadata": {
        "id": "VYHsFDbuXDtf"
      },
      "source": [
        "def piensa(self, rival, tablero):\n",
        "        if self.primero:\n",
        "            self.lista_ruta = self.pensamiento.actualiza_ruta(self.current, self.nodogoal)\n",
        "            self.lista_ruta_rival = self.pensamiento.actualiza_ruta(rival.current, rival.nodogoal)\n",
        "            self.primero = False\n",
        "            return\n",
        "\n",
        "        if rival.current == self.lista_ruta_rival[0]:\n",
        "            self.lista_ruta_rival.pop(0)\n",
        "        else:\n",
        "            self.lista_ruta_rival = self.pensamiento.actualiza_ruta(rival.current, rival.nodogoal)\n",
        "        if self.current == rival.nodogoal and self.primero == False:\n",
        "            self.lista_ruta = [self.current - 1]\n",
        "            return\n",
        "        if self.lista_ruta == []:\n",
        "            self.lista_ruta = self.pensamiento.actualiza_ruta(self.current, self.nodogoal)\n",
        "            return\n",
        "        if len(self.lista_ruta) < len(self.lista_ruta_rival):\n",
        "            return\n",
        "        if self.alcostado(self.current, rival.current, tablero.n) is True:\n",
        "            print(\"llego :v\")\n",
        "            self.lista_ruta = self.pensamiento.actualiza_ruta(self.current, rival.nodogoal)\n",
        "            return\n",
        "        if self.alcostado(self.lista_ruta[0], rival.current, tablero.n) is True:\n",
        "            self.lista_ruta = self.pensamiento.actualiza_ruta(self.current, rival.nodogoal)\n",
        "            return"
      ],
      "execution_count": null,
      "outputs": []
    },
    {
      "cell_type": "markdown",
      "metadata": {
        "id": "AGHuT3gAXIZ_"
      },
      "source": [
        ""
      ]
    },
    {
      "cell_type": "code",
      "metadata": {
        "id": "Upw8pu_CXIka"
      },
      "source": [
        "def alcostado(self, nodo1, nodo2, n):\n",
        "        return nodo1 - 1 is nodo2 or nodo1 + 1 is nodo2 or nodo1 + n is nodo2 or nodo1 - n is nodo2"
      ],
      "execution_count": null,
      "outputs": []
    },
    {
      "cell_type": "markdown",
      "metadata": {
        "id": "WP2FMOkBXKrL"
      },
      "source": [
        ""
      ]
    },
    {
      "cell_type": "code",
      "metadata": {
        "id": "hrtbljHIXK1_"
      },
      "source": [
        "def validar_direccion(self, nodoI, nodoF, n):\n",
        "        validar = nodoI - nodoF\n",
        "        if (validar == n):\n",
        "            return 0  # arriba a abajo\n",
        "        elif (validar == -n):\n",
        "            return 1  # arriba a abajo\n",
        "        elif (validar == -1):\n",
        "            return 2  # izquierda a derecha\n",
        "        elif (validar == 1):\n",
        "            return 3  # derecha a izquierda"
      ],
      "execution_count": null,
      "outputs": []
    },
    {
      "cell_type": "markdown",
      "metadata": {
        "id": "awjAYdcmXNEa"
      },
      "source": [
        ""
      ]
    },
    {
      "cell_type": "code",
      "metadata": {
        "id": "axjI2gT4XNQw"
      },
      "source": [
        "def mueve(self, enemigo, tablero):\n",
        "        inicial = self.current\n",
        "        self.current = self.lista_ruta[0]\n",
        "        self.lista_ruta.pop(0)\n",
        "        if self.current == enemigo.current:\n",
        "            direccion = self.validar_direccion(inicial, self.current, tablero.n)\n",
        "            if direccion is 0:\n",
        "                if self.current - tablero.n >= 0:\n",
        "                    if tablero.conectados(self.current, self.current - tablero.n):\n",
        "                        self.current -= tablero.n\n",
        "                    else:\n",
        "                        pass\n",
        "                else:\n",
        "                    self.current += 1\n",
        "                    self.lista_ruta = self.pensamiento.actualiza_ruta(self.current, self.nodogoal)\n",
        "                    return self.current == self.nodogoal\n",
        "            elif direccion is 1:\n",
        "                if self.current + tablero.n < tablero.n:\n",
        "                    if tablero.conectados(self.current, self.current + tablero.n):\n",
        "                        self.current += tablero.n\n",
        "                    else:\n",
        "                        pass\n",
        "                else:\n",
        "                    self.current += 1\n",
        "                    self.lista_ruta = self.pensamiento.actualiza_ruta(self.current, self.nodogoal)\n",
        "                    return self.current == self.nodogoal\n",
        "            elif direccion is 2:\n",
        "                if tablero.conectados(self.current, self.current + 1):\n",
        "                    self.current += 1\n",
        "                else:\n",
        "                    pass\n",
        "            elif direccion is 3:\n",
        "                if tablero.conectados(self.current, self.current - 1):\n",
        "                    self.current -= 1\n",
        "                else:\n",
        "                    pass\n",
        "            if self.current == self.lista_ruta[0]:\n",
        "                self.lista_ruta.pop(0)\n",
        "            else:\n",
        "                self.lista_ruta = self.pensamiento.actualiza_ruta(self.current, self.nodogoal)\n",
        "        return self.current == self.nodogoal"
      ],
      "execution_count": null,
      "outputs": []
    },
    {
      "cell_type": "markdown",
      "metadata": {
        "id": "ClONYp2qXOkZ"
      },
      "source": [
        ""
      ]
    },
    {
      "cell_type": "code",
      "metadata": {
        "id": "Gun5U9zLXOr_"
      },
      "source": [
        "def graficar(self, pantalla, pygame, n, lado, color):\n",
        "        x = self.current % n\n",
        "        y = self.current // n\n",
        "        x1 = self.nodogoal % n\n",
        "        y1 = self.nodogoal // n\n",
        "        if self.primero == False:\n",
        "            pygame.draw.rect(pantalla, blue, (x1 * lado, y1 * lado, lado, lado), 0)\n",
        "        pygame.draw.ellipse(pantalla, color, (x * lado, y * lado, lado, lado), 0)"
      ],
      "execution_count": null,
      "outputs": []
    }
  ]
}