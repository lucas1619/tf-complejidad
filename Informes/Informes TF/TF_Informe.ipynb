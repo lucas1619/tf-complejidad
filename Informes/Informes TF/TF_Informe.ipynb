{
  "nbformat": 4,
  "nbformat_minor": 0,
  "metadata": {
    "colab": {
      "name": "TF_Informe.ipynb",
      "provenance": [],
      "collapsed_sections": []
    },
    "kernelspec": {
      "name": "python3",
      "display_name": "Python 3"
    }
  },
  "cells": [
    {
      "cell_type": "markdown",
      "metadata": {
        "id": "WxppwDLKB1gj"
      },
      "source": [
        "<center><img src=\"https://www.laureate.net/wp-content/uploads/2019/03/10-UPC-Universidad-Peruana-de-Ciencias-Aplicadas.png\"></center>\n",
        "\n",
        "<center><b>Complejidad Algorítmica – CC41</b></center> <br>\n",
        "<center><b>Trabajo Final</b></center> <br>\n",
        "<center> Carreras de Ingeniería de Software y Ciencias de la computación</center>\n",
        "<br>\n",
        "\n",
        "\n",
        "\n",
        "<center>u201711783      Villegas Celis Carolina Milagros     </center>\n",
        "<center>u201914955      Mendez Pastor Brigitte Melody     </center>\n",
        "<center>u201917621      Moreno Olivos Lucas Alejandro     </center>"
      ]
    },
    {
      "cell_type": "markdown",
      "metadata": {
        "id": "FOSydxfmdW3l"
      },
      "source": [
        "# Link de la documentación del código\n",
        "https://colab.research.google.com/drive/17izFcQetKJ6KNvODLTDSKguBx0DBjsg8?usp=sharing\n",
        "\n",
        "#Link en github\n",
        "https://github.com/lucas1619/tf-complejidad"
      ]
    },
    {
      "cell_type": "markdown",
      "metadata": {
        "id": "oth65QPxudan"
      },
      "source": [
        "# Introducción\n",
        "\n",
        "El encontrar un camino más corto para llegar de un lugar a otro es algo muy importante para las empresas de delivery ahora, mientras más rápido llegas, más clientes obtienes; asimismo, en los juegos como los laberintos, el encontrar el camino hacia el final es muy importante por si estás jugando con otros compañeros y el que encuentra el camino gana, nuestro presente trabajo se trata del juego Quoridor, un juego que tiene como objetivo llegar primero hasta la base del rival. Además, en cada turno se debe escoger entre colocar dificultades como muros o avanzar. Dicho juego lo vamos a tratar como un problema de \"Path Finding\" donde se busca encontrar la ruta más corta entre dos nodos de un grafo con algoritmos eficientes considerando el tiempo de ejecución, el espacio en disco y la complejidad del mismo."
      ]
    },
    {
      "cell_type": "markdown",
      "metadata": {
        "id": "F6Cov2sYuLka"
      },
      "source": [
        "\n",
        "# Marco Teórico\n",
        "\n",
        "## Complejidad Algorítmica\n",
        "\n",
        "La complejidad algorítmica es una métrica que nos ayuda a describir el comportamiento de un algoritmo en términos de tiempo de ejecución y la memoria que requiere. Un problema puede tener distintas soluciones, pero más importante que hallar una solución es que esta sea viable y eficaz, el medir la complejidad de los algoritmos nos ayuda a saber cuál es el que debemos implementar.\n",
        "Al tiempo de ejecución se le llama complejidad temporal y a la memoria requerida para solucionar un problema se le llama complejidad espacial, ambos dependen del tamaño del problema. La complejidad algorítmica no depende siempre del tiempo de ejecución, la cantidad de memoria consumida, el sistema en donde se corra el algoritmo y el estilo de programación implementado, sino del número de instrucciones necesarias para resolver el problema. Sin embargo, esto no siempre es así, los algoritmos de búsqueda y ordenamiento son una prueba de ello pues estos iteran hasta llegar a la solución deseada, estos algoritmos presentan el mejor y peor caso, por ejemplo: el mejor caso para el algoritmo de búsqueda sería cuando el número a buscar sea el primero del arreglo y el peor cuando este sea el último del arreglo. En la notación, se suele emplear la **contracción**, por ejemplo un algoritmo de complejidad Θ(3n² + 5n + 9) se reduce a Θ(n²), a continuación una tabla que muestra los órdenes de complejidad más comunes:\n",
        "\n",
        "\n",
        "<center><img width=\"340px\" height=\"500px\" src=\"https://miro.medium.com/max/390/1*A32Od1e1ZXSSGwuSP6N7vg.png\"></center>\n",
        "\n",
        "\n",
        "## Pathfinding\n",
        "Se le denomina de esta manera al área de inteligencia artificial que tiene como objetivo encontrar el mejor camino de un \n",
        "punto a otro en mapas representados digitalmente . Estos algoritmos tienen que definir por dónde dirigirse, basados en la información\n",
        "que se tiene del ambiente. Existen diversos tipos de algoritmos como A*, ACO, JPS, etc que buscan reducir el tiempo de búsqueda y los\n",
        "recursos utilizados, con el objetivo de hacer más eficiente la tarea. En este proyecto usaremos algunos de ellos y compararemos su eficiencia.\n",
        "\n",
        "<center><img width=\"500px\" height=\"300px\" src=\"https://media.geeksforgeeks.org/wp-content/uploads/a_-search-algorithm-1.png\"></center>\n"
      ]
    },
    {
      "cell_type": "markdown",
      "metadata": {
        "id": "szDJpRR0O1oY"
      },
      "source": [
        "## Árboles de decisión y Teoría de juegos\n",
        "Un árbol de decisión es un modelo de predicción utilizado en diversos ámbitos que van desde la inteligencia artificial hasta la Economía. Este arbol se construye con un conjunto de datos que se fabrican diagramas de construcciones lógicas, muy similares a los sistemas de predicción basados en reglas, que sirven para representar y categorizar una serie de condiciones que ocurren de forma sucesiva, para la resolución de un problema.\n",
        "\n",
        "Un área donde son aplicados los árboles de decisión es la Teoría de juegos, esta utiliza modelos para estudiar interacciones de estructuras formalizadas de incentivos. En la teoría de juegos los árboles de decisión son utilizados en la llamada forma extensiva, que modeliza los juegos que presentan algún orden. En ellos siempre hay un nodo inicial del que salen varias flechas que apuntan a otros nodos y se reproduce la metodología antes explicada llegando cada rama a un vector de números. También es posible que los juegos de forma extensiva modelen juegos simultáneos, estos se representan con una línea discontinua entre los nodos que ha de elegir un jugador sin saber de antemano la opción escogida por el otro, tomando este un vector de decisiones anticipado sin saber en cual de esos nodos estará.\n",
        "\n",
        "<center><img width=\"500px\" height=\"300px\" src=\"https://upload.wikimedia.org/wikipedia/commons/thumb/f/fc/Ultmatum_game.png/330px-Ultmatum_game.png\"></center>\n"
      ]
    },
    {
      "cell_type": "markdown",
      "metadata": {
        "id": "GkWghGf1ul-Y"
      },
      "source": [
        "# Estado del arte\n",
        "\n",
        "Qué es el estado del arte\n",
        "\n",
        "## Enfoques de programación a utilizar:\n",
        "1. Algoritmos Golosos\n",
        "2. Programación dinámica\n",
        "\n",
        "### 1. Algoritmos Golosos\n",
        "\n",
        "\n",
        "Es un paradigma algorítmico que construye una solución apartir de la opción optima local en cada paso que va mediante una heuristica con la esperanza de llegar a una solución general optima.\n",
        "\n",
        "* Usualmente usados para problemas de optimización\n",
        "\n",
        "Descompone un problema en varios subproblemas donde uno de ellos corresponde a la subestrucura optima.\n",
        "1. Se descompone un subproblema optimo\n",
        "2. Se resuelve ese subproblema\n",
        "\n",
        "La idea central es no resolver todos los subproblemas si no escoger una elección golosa por uno de ellos\n",
        "y resolverlo en base a eso, con el criterio que debe ser la subestructura optima local.\n",
        "\n",
        "\n",
        "**Funcionamiento**\n",
        "\n",
        "El algoritmo escoge el elemento mas prometedor local x E C posible. Se elimina ese elemento del conjunto de candidatos (C <-\\C{X}) y, acto seguido, comprueba si la inclusión de este elemento en el conjunto de elementos seleccionados (S U{x}) produce una solución factible.\n",
        "\n",
        "En caso de que así sea, se incluye ese elemento en S Si la inclusión no fuera factible, se descarta el elemento. Iteramos el bucle, comprobando si el conjunto de seleccionados es una solución y, si no es así, pasando al siguiente elemento del conjunto de candidatos.\n",
        "\n",
        "**¿Como usaremos este paradigma en nuestra solución a Quoridor?**\n",
        "\n",
        "Se usarán algoritmos Greedy en nuestra solución al problema para encontrar la ruta mas corta mediante los \n",
        "algoritmos Dijkstra y A* \n",
        "\n",
        "\n",
        "### 2. Programación dinámica\n",
        "\n",
        "\n",
        "Es un paradigma algorítmico que de manera similar al enfoque de \"divide y venceras\" resuelve problemas combinando soluciones de sus subproblemas. La diferencia entre ambos enfoques de programación es que los problemas en divide y venceras se dividen en subproblemas disjuntos mientras que en programación dinámica los subproblemas se superponen, es decir, los subproblemas comparten subproblemas. Un algoritmo en divide y vencerás hace más trabajo del necesario, pues resuelve repetidamente subproblemas comunes, por otro lado, un algoritmo de programación dinámica resuelve el subproblema solo una vez y luego guarda su respuesta en una lista, tabla, lo cual permite que se ahorre el trabajo de volver a calcular la respuesta cada vez que se solucione el problema.\n",
        "\n",
        "* Usualmente se usa para problemas de optimización\n",
        "\n",
        "Cuando resolvemos problemas en programación dinámica, seguimos esta secuencia:\n",
        "1. Caracterizar la estructura de una solución óptima\n",
        "2. Definir de forma recursiva el valor de una solución óptima\n",
        "3. Calcule el valor de una solución óptima, generalmente de forma ascendente\n",
        "4. Construya una solución óptima a partir de información calculada.\n",
        "\n",
        "Si solo necesitamos el valor de la solución óptima y no la solución en sí, podemos omitir el 4to paso\n",
        "\n",
        "**¿Como usaremos este paradigma en nuestra solución a Quoridor?**\n",
        "\n",
        "Este enfoque de programación se usará para la implementación del algoritmo de Bellman Ford\n",
        "\n",
        "## Algoritmos de Path Finding a utilizar\n",
        "\n",
        "Estos servirán para encontrar el camino más rápido de un nodo a otro, se mencionan nodos debido a que nuestro juego usa la estructura de un grafo. Una mayor explicación de pathfinding se encuentra en la sección de Marco Teórico.\n",
        "\n",
        "1. Algoritmo Dijkstra\n",
        "2. Bellman Ford\n",
        "3. Algoritmo A Star\n",
        "\n",
        "\n",
        "\n",
        "### 1. Algoritmo de Dijkstra\n",
        "\n",
        "El algoritmo de Dijkstra (también llamado Búsqueda de costo uniforme) nos permite priorizar qué caminos explorar. En lugar de explorar todas las rutas posibles por igual, favorece las rutas de menor costo. Por lo que se le pueden asignar rutas a los vertices. Por ello la idea del algoritmo consiste en ir explorando todos los caminos más cortos que parten del vértice origen y que llevan a todos los demás vértices; cuando se obtiene el camino más corto desde el vértice origen hasta el resto de los vértices que componen el grafo, el algoritmo se detiene. \n",
        "\n",
        "**Pseudocodigo**\n",
        "\n",
        "<center><img src=\"https://fotos.subefotos.com/e0f92dd06445fe425b5a5f0dd5dfad52o.png\"></center>\n",
        "\n",
        "\n",
        "**Complejidad del algoritmo** \n",
        "\n",
        "El algoritmo consiste en $n-1$ iteraciones como máximo, siendo $n$ el número de vertices . En cada iteración, se añade un vértice al conjunto distinguido.\n",
        "y también se identifica el vértice con la menor etiqueta entre los que no están en Sk siendo el conjunto. El número de estas operaciones está acotado por $n-1$.\n",
        "Además, se realizan una suma y una comparación para actualizar la etiqueta de cada uno de los vértices que no están en Sk.\n",
        "Asimismo, en cada iteración se realizan como máximo $2(n-1)$ operaciones.\n",
        "\n",
        "Debido a lo mencionado en el parrafo anterior, el algoritmo de Dijkstra realiza $O(n^2)$ operaciones (sumas y comparaciones) para determinar la longitud del camino más corto entre dos vértices de un grafo ponderado, simple, conexo y no dirigido con n vértices. De esto deducimos que la complejidad del algoritmo de acuerdo a el tiempo de ejecución es $O(|A|.𝑻_𝒅𝒌+|v|.𝑻_𝒅𝒎)$, siendo |A| el número de aristas, 𝑻_𝒅𝒌 la Complejidad de disminuir clave, |V| el número de vértices y 𝑻_𝒅𝒎 la complejidad de extraer el valor mínimo\n",
        "\n",
        "\n",
        "**Espacio de búsqueda del algoritmo**\n",
        "\n",
        "El espacio de búsqueda de este algoritmo funciona bien para encontrar el camino más corto, pero pierde tiempo explorando en direcciones que no son prometedoras.\n",
        "Debido a que trabaja por etapas, y toma en cada etapa la mejor solución sin considerar consecuencias futuras. Sin embargo el óptimo encontrado en una etapa puede modificarse posteriormente si surge una solución mejor. \n",
        "       \n",
        "    \n",
        "<center><img width=\"300px\" height=\"300px\" src=\"https://fotos.subefotos.com/03b2af99e84c3d92e4d55bfb85c92a59o.png\"></center>\n",
        "\n",
        "\n",
        "\n",
        "### 2. Algoritmo Bellman Ford\n",
        "\n",
        "El algoritmo de Bellman-Ford es un algoritmo que calcula las rutas más cortas desde un único vértice de origen a todos los demás vértices en un dígrafo ponderado, este también trabaja con pesos. Su funcionamiento consiste en partir de un vértice origen. Seguidamente, Bellman-Ford relaja todas las aristas, esto lo hace $|V| – 1$ veces, siendo |V| el número de vértices del grafo. \n",
        "Las repeticiones permiten a las distancias mínimas recorrer el árbol, ya que en la ausencia de ciclos negativos, el camino más corto solo visita cada vértice una vez. A diferencia de la solución voraz, la cual depende de la suposición de que los pesos sean positivos, esta solución se aproxima más al caso general.\n",
        "\n",
        "**Pseudocodigo**\n",
        "\n",
        "\n",
        "<center><img src=\"https://fotos.subefotos.com/6fc7a4eeb709b806b6512c76868f5088o.png\"></center>\n",
        "\n",
        "\n",
        "\n",
        "**Complejidad del algoritmo** \n",
        "\n",
        "La idea fuerte del algoritmo es que si el grafo tiene V  nodos, alcanza con recorrer las aristas V−1 veces. Se ve entonces que la complejidad del algoritmo es $O(V.E)$ donde V es la cantidad de vértices y E la de aristas. \n",
        "\n",
        "**Espacio de búsqueda del algoritmo**\n",
        "\n",
        "El espacio de busqueda de Bellman Ford debido a su naturaleza voraz encuentra el camino en un tiempo menor a comparación de los otros. Debido a que al  seleccionar vorazmente el nodo de peso mínimo aun sin procesar simplemente relaja todas las aristas, y lo hace |V|-1 veces, siendo |V| el número de vértices en el grafo.\n",
        "\n",
        "\n",
        "### 3. Algoritmo A Star\n",
        "Es una de las mejores técnicas para búsqueda de rutas y recorridos de grafos. A diferencia de otros, este es un algoritmo inteligente, muchos juegos utilizan este algoritmo para encontrar el camino más corto de forma eficient, cualidad que es altamente importante para este trabajo. Usaremos este algoritmo para poder encontrar el camino más corto a la meta y lo modificaremos de acuerdo a las condiciones que considera el juego Quoridor, de acuerdo al juego, el tablero se representará por un grafo.\n",
        " \n",
        "\n",
        "\n",
        " \n",
        "**Pseudocódigo**\n",
        "\n",
        "<center><img  src=\"https://i.ibb.co/2PvY2Gk/astarpseudocode.png\"></center>\n",
        "\n",
        "\n",
        "\n",
        "**Complejidad del algoritmo:**\n",
        "\n",
        "La complejidad de este algoritmo se basa en la heuristica determinada y el tipo de juego, por lo cual su complejidad no está determinada.\n",
        "\n",
        "\n",
        "**Espacio de búsqueda del algoritmo**\n",
        "\n",
        "El espacio de búsqueda de este algoritmo es menor que el de Dijkstra, pues mientras Dijkstra considera caminos que no son prometedores, A Star al usar una cola de prioridad, ordena a los nodos de acuerdo al menor valor obtenido de la heurística, la cual es la distancia estimada del nodo en el que nos encontramos hasta el nodo al que queremos llegar. De tal manera que obtenemos y exploramos el nodo más cercano al nodo final. El valor obtenido de la heuristica es sumado a la distancia entre nodo concurrente y el nodo, lo cual nos permite obtener el camino más corto y más rápido.\n",
        "\n",
        "Este sería gráficamente el espacio de búsqueda que ocupa el algoritmo A Star en un tablero 15 x 15 :\n",
        "\n",
        "<center><img width=\"300px\" height=\"300px\" src=\"https://i.ibb.co/fxvWP29/astar.png\"></center>\n",
        "\n",
        "\n",
        "## Algoritmo de toma de decisión a utilizar y estrategia para poner paredes a utilizar\n",
        "\n",
        "Estos algoritmos o estrategias nos servirán en la decisión de cada jugador, el jugador podrá decidir si poner pared o avanzar. Una mayor explicación de árboles de decisiones y teoría de juegos se encuentra en la sección de Marco Teórico. Asimismo, cuando el algoritmo de toma de decisión opte por poner pared, la estrategia a seguir será una estrategia ofensiva, la cual se explicará en las siguientes líneas.\n",
        "\n",
        "1. Estrategia ofensiva (para las paredes)\n",
        "\n",
        "\n",
        "\n",
        "2. Paranoid (toma de decisión)\n",
        "\n",
        "\n",
        "###Estrategia ofensiva\n",
        "\n",
        "La estrategia se trata de obstruir el paso del jugador oponente y así lograr que la ruta a tomar para llegar a su objetivo sea más extensa.\n",
        "Esta estrategia evalua la posición a la que se va a mover el peón, conocemos la posición a la que se moverá el peón enemigo, debido a que contamos con la lista de la ruta que seguirá. Evaluamos a donde se moverá (izquierda, derecha, arriba o abajo) y colocamos una pared ahí. Asimismo, contamos con una función que evalua la posibilidad de poner una pared en cierto lugar, toma en consideración el no poner pared en un lugar que pueda cerrar el camino del jugador contrario, el no poner pared donde no se pueda (debido a que ya se puso una) y no poner pared en los bordes del tablero. Al contar con la función anterior, lo que hace la estrategia ofensiva es buscar (analizando la ruta del oponente) dónde poner pared hasta encontrar una opción que sea posible y finaliza.\n",
        "\n",
        "\n",
        "\n",
        " \n",
        "### Paranoid\n",
        "\n",
        "\n",
        "El algoritmo \"Paranoid\" reduce un juego multijugador a\n",
        "un juego de dos jugadores haciendo una suposición \"paranoica\", ya que este algoritmo asume que todos los oponentes han formado una coalición para perjudicar al jugador raiz. Su implementacion y funcionamiento es muy parecido al del algoritmo min-max. Este algoritmo genera un arbol de busqueda a traves de la recursividad donde los nodos que se encuentren en un nivel que sea multiplo de la cantidad de jugadores van a uscar maximizar mientras que el resto buscara minimizar.  \n",
        "\n",
        "**Espacio de búsqueda del algoritmo en el proyecto:**\n",
        "<center><img src=\"https://i.ibb.co/F6TgmWP/TF-SCRIPT.png\"></center>\n",
        "\n",
        "\n",
        "\n"
      ]
    },
    {
      "cell_type": "markdown",
      "metadata": {
        "id": "tiGFqHVguuYY"
      },
      "source": [
        "# Metodología\n",
        "La metodología que usamos para resolver este problema se divide en tres partes:\n",
        "\n",
        "1. Investigación\n",
        "\n",
        "2. Desarrollo\n",
        "\n",
        "3. Tests y Experimentos\n",
        "\n",
        "\n",
        "### 1. Investigación\n",
        "Lo primero que hicimos fue indagar acerca del problema, debido a ello encontramos que debíamos hacer uso de algoritmos relacionados a la busqueda del camino más corto. Usaremos estos algoritmos para el movimiento de los peones a través de los obstáculos ,el encontrar caminos de un lugar a otro es también llamado Pathfinding. Asimismo, buscamos algoritmos que podrían ser útiles para nuestro trabajo, los que encontramos fueron A*, Dijkstra y Bellman Ford, la descripción, espacio de búsqueda, complejidad y pseudocódigo de cada uno de esos algoritmos se encuentra en la sección \"Estado del arte\".\n",
        "\n",
        "Lo segundo que hicimos fue buscar estrategias para poner las paredes, esto lo hicimos jugando personalmente el juego \"Quoridor\" e investigando en artículos cientificos que también han estudiado el juego Quoridor.\n",
        "\n",
        "Lo tercero que hicimos fue buscar algoritmos de toma de decisión. A través de la investigación en articulos académicos que han estudiado los algoritmos de toma de decisión para juegos multijugadores encontramos los algoritmo de toma de decisión \"minmax y paranoid\".\n",
        "\n",
        "No utilizamos minmax, debido a que este juego aplica para más de 2 jugadores y minmax solo permite dos jugadores. Debido a ello, utilizamos paranoid, un algoritmo de toma de decisión que nos permite evaluar juegos multijugadores, tomando a un jugador como el maximizador y a los demás como los minimizadores, la teoría de este algoritmo y el espacio de búsqueda para nuestro juego del mismo se encuentra en la sección \"Estado del arte\".\n",
        "\n",
        "De manera adicional, se hizo uso de la libreria pygames, para la parte gráfica del juego (representación del tablero, paredes y peones).\n",
        "\n",
        "\n",
        "\n",
        "\n",
        "### 2. Desarrollo\n",
        "\n",
        "#### Primer entregable\n",
        "\n",
        "En primer lugar, implementamos una lista doblemente enlazada, lo siguiente fue implementar un grafo, el cual era la combinación de un vector de listas doblemente enlazadas y dentro de ello, una función que permitía que las conexiones entre nodos se almacenen como listas de adyacencia. Elegimos implementarlo de esta manera, debido a que deseamos un acceso constante a los nodos, eso lo obtenemos del vector de listas doblemente enlazadas y además, un almacenado dinámico a sus adyacentes y la lista doblemente enlazada permite ello. De tal manera, que las operaciones de acceso e insertado en nuestro juego sean de O(1)\n",
        "\n",
        "En segundo lugar, nuestro  objetivo fue implementar los algoritmos de path-finding. Con el proposito de avanzar el trabajo de manera más rápida, al ser un grupo de 3 integrantes, cada integrante implemento uno de los algoritmos de path-finding de acuerdo al grafo construido previamente. Al testear que los algoritmos funcionaban y encuentraban las rutas adecuadas pasamos al siguiente paso.\n",
        "\n",
        "En tercer lugar, separamos el código de manera estructurada y ordenada haciendo uso del paradigma de la Programación Orientada a Objetos, debido a que cada uno trabajo por su cuenta, el código estaba desordenado y decidimos ordenarlo en clases, las clases que identificamos fueron:\n",
        "\n",
        "- Clase Lista Doblemente Enlazada (clase que contiene la implementación de la lista)\n",
        "- Clase Tablero (clase que contiene la implementación del grafo entre otras funcionalidades del mismo)\n",
        "- Clase Jugador (clase que contiene todas las funcionalidades del peon del juego)\n",
        "- Clase Pensamiento (clase que contiene los algoritmos que seguirán los peones)\n",
        "- Clase Quoridor (clase que contiene todo el juego)\n",
        "\n",
        "En cuarto lugar, implementamos el pensamiento del jugador, ejemplo: cuando saltar, cuando cambiar de ruta, cuando retroceder, cuando seguir si ve que todo está tranquilo, y también implementamos la función mover, la cual después de pensar moverá el circulo arriba, abajo, a la izquierda o derecha.\n",
        "\n",
        "En quinto lugar, implementamos la parte gráfica con la ayuda de la librería pygames, definiendo a cada nodo como un cuadrado del tablero y al peón como un circulo dentro de este.\n",
        "\n",
        "En último lugar, testeamos el juego de distintas maneras, lo cual nos confirmo que los algoritmos funcionaban de manera correcta y nos detallo el tiempo que demoraba cada uno de acuerdo al tablero dado. Además, los algoritmos que eran más eficientes para el caso. Debido a que no contamos con paredes, el desenvolvimiento de los algoritmos fueron muy similares, pues no hay barreras y tienen el camino libre, además de una distancia de 1 entre cada nodo. En la entrega final se podrá apreciar de mejor manera el desenvolvimiento de los tres algoritmos implementados en este trabajo.\n",
        "\n",
        "\n",
        "### Segundo entregable\n",
        "\n",
        "En primer lugar, se optimizo el codigo para mantener un mejor orden y estructura. Se volvio a implementar el juego con las funciones actualizadas y mejoradas haciendo uso del paradigma orientada a objetos. Ya no se hizo uso de la lista doblemente enlazada ni del grafo propiamente implementado, en su remplazo usamos la libreria de python \"networkx\" que nos permitio simplificar nuestras funciones.\n",
        "\n",
        "En segundo lugar se implemento una estrategia para poner paredes, la cual es la función poner pared, esta funciónvalida que la pared a poner no salga del tablero, no se ponga en los bordes, no imposibilite el movimiento a ninguno de los jugadores y no se ponga donde ya hay una puesta.\n",
        "\n",
        "En tercer lugar se implemento la estrategia ofensiva para poner paredes, la cual busca cerrar el camino al enemigo siempre que este se encuentre en movimiento con ciertas restricciones, una mayor descripción de la estrategia ofensiva se encuentra en la sección \"Estado del arte\".\n",
        "\n",
        "En quinto lugar se implemento el algoritmo de toma de decisión \"Paranoid\" que es el encargado de manejar todo el pensamiento del jugador en turno, las opciones que existen son moverse (siguiendo la ruta obtenida del algoritmo de pathfinding) o poner pared (siguiendo la estrategia ofensiva). Una mayor descripción de Paranoid, se encuentra en la sección \"Estado del arte\".\n",
        "\n",
        "Por último, se testeo los algoritmos siguiendo distintas métricas.\n",
        "\n",
        "### 3. Tests y Experimentos\n",
        "\n",
        "#### Primer entregable\n",
        "\n",
        "La forma en la cual haremos los tests es dandole como entrada el tamaño del tablero y midiendo el tiempo de ejecucion, **están serán las métricas**\n",
        "\n",
        "Para esta tarea, primero necesitamos una manera en la cual medir el tiempo de cada juego, por ello se diseño el siguiente método dentro de la clase Quoridor\n",
        "\n",
        "#### Segundo entregable\n",
        "\n",
        "En proceso\n"
      ]
    },
    {
      "cell_type": "code",
      "metadata": {
        "id": "rFQmD4iihKk3"
      },
      "source": [
        "    def test(self, alg):\n",
        "        print(\"Comenzo\")\n",
        "        start_time = time.time()\n",
        "        self.ganador = False\n",
        "        self.turno = 0\n",
        "        for i in range(len(self.lista_de_jugadores)):\n",
        "            self.lista_de_jugadores[i].pensamiento.indica = alg\n",
        "        while self.ganador == False:\n",
        "            self.lista_de_jugadores[self.turno].piensa(\n",
        "                self.lista_de_jugadores[(self.turno + 1) % len(self.lista_de_jugadores)], self.tablero)\n",
        "            self.ganador = self.lista_de_jugadores[self.turno].mueve(\n",
        "                self.lista_de_jugadores[(self.turno + 1) % len(self.lista_de_jugadores)],\n",
        "                self.tablero)\n",
        "            self.turno = (self.turno + 1) % len(self.lista_de_jugadores)\n",
        "        elapsed_time = time.time() - start_time\n",
        "        return elapsed_time*1000.0"
      ],
      "execution_count": null,
      "outputs": []
    },
    {
      "cell_type": "markdown",
      "metadata": {
        "id": "O29RHG6AhV8z"
      },
      "source": [
        "Despues necesitabamos una forma en la cual recopilar el tiempo que nos retorna el método test, para ello se diseño el siguiente algoritmo:"
      ]
    },
    {
      "cell_type": "code",
      "metadata": {
        "id": "kZ2MfsJ1noV2"
      },
      "source": [
        "from Quoridor import Quoridor\n",
        "import matplotlib.pyplot as plt\n",
        "def main():\n",
        "    algoritmos = [1,2,3]\n",
        "    titulo = [\"Bellman Ford\", \"Dijikstra\", \"A Star\"]\n",
        "    tiempos = [] #guarda los tiempos\n",
        "    tam = [] #guarda los tamaños\n",
        "    for i,algoritmo in enumerate(algoritmos):\n",
        "        size = 5\n",
        "        while(size <= 5000):\n",
        "            game = Quoridor(size, 2)\n",
        "            tiempos.append(game.test(algoritmo))\n",
        "            tam.append(size)\n",
        "            if(tiempos[len(tiempos) - 1] > 60000):\n",
        "                break\n",
        "            if size < 10:\n",
        "                size += 5\n",
        "            elif size < 100:\n",
        "                size +=10\n",
        "            elif size < 1000:\n",
        "                size += 100\n",
        "            else:\n",
        "                size += 500\n",
        "        #hacer para que matplotlib genere el grafico\n",
        "        plt.plot(tam, tiempos)\n",
        "        plt.title(titulo[i], fontsize=22)\n",
        "        plt.xlabel(\"Tamaño del tablero\", fontsize=18)\n",
        "        plt.ylabel(\"Tiempo en ms\", fontsize=18)\n",
        "        plt.show()\n",
        "        #limpiamos\n",
        "        tiempos.clear()\n",
        "        tam.clear()"
      ],
      "execution_count": null,
      "outputs": []
    },
    {
      "cell_type": "code",
      "metadata": {
        "id": "zPNeA8LcoAD0",
        "colab": {
          "base_uri": "https://localhost:8080/",
          "height": 893
        },
        "outputId": "6350aa55-55c4-4254-ca6c-1adb01f2151e"
      },
      "source": [
        "\n",
        "main()"
      ],
      "execution_count": null,
      "outputs": [
        {
          "output_type": "display_data",
          "data": {
            "image/png": "[encoded data removed]",
            "text/plain": [
              "<Figure size 432x288 with 1 Axes>"
            ]
          },
          "metadata": {
            "tags": [],
            "needs_background": "light"
          }
        },
        {
          "output_type": "display_data",
          "data": {
            "image/png": "[encoded data removed]",
            "text/plain": [
              "<Figure size 432x288 with 1 Axes>"
            ]
          },
          "metadata": {
            "tags": [],
            "needs_background": "light"
          }
        },
        {
          "output_type": "display_data",
          "data": {
            "image/png": "[encoded data removed]",
            "text/plain": [
              "<Figure size 432x288 with 1 Axes>"
            ]
          },
          "metadata": {
            "tags": [],
            "needs_background": "light"
          }
        }
      ]
    },
    {
      "cell_type": "code",
      "metadata": {
        "id": "IIjqrNmJTo_2"
      },
      "source": [
        ""
      ],
      "execution_count": null,
      "outputs": []
    }
  ]
}