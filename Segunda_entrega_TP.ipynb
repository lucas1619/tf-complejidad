{
  "nbformat": 4,
  "nbformat_minor": 0,
  "metadata": {
    "colab": {
      "name": "Segunda entrega TP",
      "provenance": [],
      "collapsed_sections": []
    },
    "kernelspec": {
      "name": "python3",
      "display_name": "Python 3"
    }
  },
  "cells": [
    {
      "cell_type": "markdown",
      "metadata": {
        "id": "akbjrQRAeU5G"
      },
      "source": [
        "#Librerias "
      ]
    },
    {
      "cell_type": "code",
      "metadata": {
        "id": "gqjHjQ1BeVvO"
      },
      "source": [
        "import gc\n",
        "import networkx as nx"
      ],
      "execution_count": null,
      "outputs": []
    },
    {
      "cell_type": "markdown",
      "metadata": {
        "id": "6IoKndI8enaG"
      },
      "source": [
        "##Clase Nodo"
      ]
    },
    {
      "cell_type": "code",
      "metadata": {
        "id": "gBQFun40cXj8"
      },
      "source": [
        "class Node:\n",
        "    def __init__(self, value=None):\n",
        "        self.value = value\n",
        "        self.next = None\n",
        "        self.prev = None\n",
        "\n"
      ],
      "execution_count": null,
      "outputs": []
    },
    {
      "cell_type": "markdown",
      "metadata": {
        "id": "YzdM0Y_MewEt"
      },
      "source": [
        "##Clase Lista doblemente Enlazada"
      ]
    },
    {
      "cell_type": "code",
      "metadata": {
        "id": "2w1CIipmdBiL"
      },
      "source": [
        "class DoubleLinkedList:\n",
        "\n",
        "    def __init__(self):\n",
        "        self.start = Node()\n",
        "        self.end = Node()\n",
        "        self.size = 0\n",
        "\n",
        "    def __len__(self):\n",
        "        return self.size\n",
        "\n",
        "    def __iter__(self):\n",
        "        node = self.start\n",
        "        while node:\n",
        "            yield node.value\n",
        "            node = node.next\n",
        "\n",
        "    def push_front(self, value):\n",
        "        new = Node(value)\n",
        "        if self.size == 0:\n",
        "            self.start = self.end = new\n",
        "            self.size += 1\n",
        "            return\n",
        "        new.next = self.start\n",
        "        self.start.prev = new\n",
        "        self.start = new\n",
        "        self.size += 1\n",
        "\n",
        "    def push_back(self, value):\n",
        "        if self.size == 0:\n",
        "            self.push_front(value)\n",
        "            return\n",
        "        new = Node(value)\n",
        "        self.end.next = new\n",
        "        new.prev = self.end\n",
        "        self.end = new\n",
        "        self.size += 1\n",
        "\n",
        "    def insert(self, index, value):\n",
        "        if self.size == 0 or index == 0:\n",
        "            self.push_front(value)\n",
        "            return\n",
        "        if index == self.size - 1:\n",
        "            self.push_back(value)\n",
        "            return\n",
        "        if index < 0 or index >= self.size:\n",
        "            return\n",
        "        new = Node(value)\n",
        "        c = self.start\n",
        "        for i in range(index - 1):\n",
        "            c = c.next\n",
        "        new.next = c.next\n",
        "        c.next.prev = new\n",
        "        c.next = new\n",
        "        new.prev = c\n",
        "        self.size += 1\n",
        "\n",
        "    def pop_back(self):\n",
        "        if self.size <= 0:\n",
        "            return\n",
        "        if self.size == 1:\n",
        "            self.start = self.end = None\n",
        "            self.size -= 1\n",
        "            gc.collect()  # eliminar memoria sin referencia\n",
        "            return\n",
        "        self.end = self.end.prev\n",
        "        self.end.next.prev = None\n",
        "        self.end.next = None\n",
        "        self.size -= 1\n",
        "        gc.collect()  # eliminar memoria sin referencia\n",
        "\n",
        "    def pop_front(self):\n",
        "        if self.size <= 1:\n",
        "            self.pop_back()\n",
        "            return\n",
        "        self.start = self.start.next\n",
        "        self.start.prev.next = None\n",
        "        self.start.prev = None\n",
        "        self.size -= 1\n",
        "        gc.collect()\n",
        "\n",
        "    def delete(self, index):\n",
        "        # lo hacen uds, eliminar en una posicion :v\n",
        "        self.size -= 1\n",
        "\n",
        "    def erase(self, pos):\n",
        "        if pos < self.size and pos >= 0:\n",
        "            if (pos == 0):\n",
        "                self.pop_front()\n",
        "            elif pos == self.size:\n",
        "                self.pop_back()\n",
        "            else:\n",
        "                punt = self.start\n",
        "                contador = 0\n",
        "                while (contador != pos - 1):\n",
        "                    punt = punt.next\n",
        "                    contador += 1\n",
        "                    elimi = punt.next\n",
        "                punt.next = elimi.next\n",
        "                elimi.next = None\n",
        "                del elimi\n",
        "                self.size -= 1\n",
        "\n",
        "    def buscar_por_valor(self, valor):\n",
        "        contador = 0\n",
        "        punt = self.start\n",
        "        while (contador != self.size):\n",
        "            if punt.value == valor:\n",
        "                return contador\n",
        "            punt = punt.next\n",
        "            contador += 1\n",
        "        return -1\n"
      ],
      "execution_count": null,
      "outputs": []
    },
    {
      "cell_type": "markdown",
      "metadata": {
        "id": "LkX0Vf5nfJ52"
      },
      "source": [
        "##Clase Quoridor"
      ]
    },
    {
      "cell_type": "code",
      "metadata": {
        "id": "CyMpCsxmfKM1"
      },
      "source": [
        "class Quoridor:\n",
        "  def init(self, n=5, q_players = 2):\n",
        "\n",
        "        self.n = n\n",
        "        self.q_nodos = n*n\n",
        "        self.q_players = 2\n",
        "        self.grafo = [DoubleLinkedList() for i in range(self.q_nodos)]\n",
        "        for i, nodo in enumerate(self.grafo):\n",
        "          if i % n != n - 1:\n",
        "            self.grafo[i].push_back(i + 1)\n",
        "            self.grafo[i + 1].push_back(i)\n",
        "          if i + n < n*n:\n",
        "            self.grafo[i].push_back(i+n)\n",
        "            self.grafo[i + n].push_back(i)\n",
        "        dict = []\n",
        "        for i, nodo in enumerate(self.grafo):\n",
        "          for j in list(nodo):\n",
        "              data = (i,j)\n",
        "              dict.append(data)\n",
        "        return dict\n",
        "\n",
        "  def dicionario(self):\n",
        "      dic = []\n",
        "      listaN = [x for x in range(self.q_nodos)]\n",
        "      for i, nodo in enumerate(self.grafo):\n",
        "          data = (list(nodo))\n",
        "          dic.append(data)\n",
        "      diccio = (dict(zip(listaN, dic)))\n",
        "      return diccio\n",
        "\n",
        "  def dijsktra(self, Nodos):\n",
        "\n",
        "    grafo = self.dicionario()\n",
        "\n",
        "    S = [];\n",
        "    Queue = [];\n",
        "    anterior = [0 for i in range(max(grafo) +1)];\n",
        "    distancia = [0 for i in range(max(grafo) +1)]\n",
        "\n",
        "    for nodo in grafo:\n",
        "        distancia[nodo] = 10000\n",
        "        Queue.append(nodo)\n",
        "    distancia[Nodos[0]] = 0\n",
        "\n",
        "    while not len(Queue) == 0:\n",
        "        distancia_minima = 10000\n",
        "        for nodo in Queue:\n",
        "            if distancia[nodo] < distancia_minima:\n",
        "                distancia_minima = distancia[nodo]\n",
        "                nodo_temporal = nodo\n",
        "        nodo_distancia_minima = nodo_temporal\n",
        "        Queue.remove(nodo_distancia_minima)\n",
        "\n",
        "        for vecino in grafo[nodo_distancia_minima]:\n",
        "            if distancia[nodo_distancia_minima] == 10000:\n",
        "                distancia_temporal = 0\n",
        "            else:\n",
        "                distancia_temporal = distancia[nodo_distancia_minima]\n",
        "            distancia_con_peso = distancia_temporal + 1\n",
        "            if distancia_con_peso < distancia[vecino]:\n",
        "                distancia[vecino] = distancia_con_peso\n",
        "                anterior[vecino] = nodo_distancia_minima\n",
        "\n",
        "        if nodo_distancia_minima == Nodos[1]:\n",
        "            if anterior[nodo_distancia_minima] != 0 or nodo_distancia_minima == Nodos[0]:\n",
        "                while nodo_distancia_minima != 0:\n",
        "                    S.insert(0, nodo_distancia_minima)\n",
        "                    nodo_distancia_minima = anterior[nodo_distancia_minima]\n",
        "                return S\n",
        "                \n",
        "  def bellman_ford(self, start, end):\n",
        "    ruta = DoubleLinkedList()\n",
        "    ruta.push_front(end)\n",
        "    distancia = [float(\"Inf\") for x in range(self.q_nodos)]\n",
        "    previo = [-1 for x in range(self.q_nodos)]\n",
        "    distancia[start] = 0\n",
        "    for iteracion in range(self.q_nodos - 1):\n",
        "      for actual, nodo in enumerate(self.grafo):\n",
        "        for adyacente in nodo:\n",
        "          if distancia[actual] + 1 < distancia[adyacente]:\n",
        "            distancia[adyacente] = distancia[actual] + 1\n",
        "            previo[adyacente] = actual\n",
        "    anterior = previo[end]\n",
        "    while anterior != -1:\n",
        "      ruta.push_front(anterior)\n",
        "      anterior = previo[anterior]\n",
        "    return list(ruta)\n",
        "\n",
        "  def h(self, start, end):\n",
        "    ys =  start.value % self.n\n",
        "    xs = start.value // self.n + ys\n",
        "    ye = end.value % self.n\n",
        "    xe = end.value // self.n + ye\n",
        "    return abs(xs - xe) + abs(ys - ye)              \n",
        "\n",
        "               "
      ],
      "execution_count": null,
      "outputs": []
    },
    {
      "cell_type": "markdown",
      "metadata": {
        "id": "6hJOdrdp54SJ"
      },
      "source": [
        "#Algoritmo A Star"
      ]
    },
    {
      "cell_type": "code",
      "metadata": {
        "id": "EqN2m-Yb5UVI"
      },
      "source": [
        "def heuristic(current, goal):\n",
        "    h = abs(current[0] - goal[0]) + abs(current[1] - goal[1])\n",
        "    return h\n",
        "\n",
        "\n",
        "def get_heuristic_value(node):\n",
        "    return node['global']\n",
        "\n",
        "\n",
        "def Astar(Graph, start, goal, n):\n",
        "    current = start\n",
        "    c = start % n + start // n\n",
        "    f = start // n\n",
        "    c1 = goal % n + goal // n\n",
        "    f1 = goal // n\n",
        "    G.nodes[start]['local'] = 0\n",
        "    G.nodes[start]['global'] = heuristic((c, f), (c1, f1))\n",
        "    not_tested_nodes = [G.nodes[start]]\n",
        "\n",
        "    while len(not_tested_nodes) != 0 and current != goal:\n",
        "\n",
        "        not_tested_nodes.sort(key=get_heuristic_value)\n",
        "\n",
        "        while len(not_tested_nodes) != 0 and not_tested_nodes[0]['visited']:\n",
        "            not_tested_nodes.pop(0)\n",
        "\n",
        "        if len(not_tested_nodes) == 0:\n",
        "            break\n",
        "\n",
        "        current = not_tested_nodes[0]['pos']\n",
        "        not_tested_nodes[0]['visited'] = True\n",
        "\n",
        "        for neighbor in Graph.neighbors(current):\n",
        "            if not G.nodes[neighbor]['visited']:\n",
        "                not_tested_nodes.append(G.nodes[neighbor])\n",
        "            sum = G.nodes[current]['local'] + 1\n",
        "\n",
        "            if sum < G.nodes[neighbor]['local']:\n",
        "                G.nodes[neighbor]['padre'] = current\n",
        "                print(G.nodes[neighbor]['padre'])\n",
        "                G.nodes[neighbor]['local'] = sum\n",
        "                c = neighbor % n + neighbor // n\n",
        "                f = neighbor // n\n",
        "                G.nodes[neighbor]['global'] = G.nodes[neighbor]['local'] + heuristic((c, f), (c1, f1))"
      ],
      "execution_count": null,
      "outputs": []
    },
    {
      "cell_type": "markdown",
      "metadata": {
        "id": "N5OI7i5Uk1ke"
      },
      "source": [
        "##Algoritmo dijkstra (Explicacion algoritmo)\n",
        "def dijsktra(self, Nodos):                 -> funcion dijsktra\n",
        "\n",
        "    grafo = self.dicionario()              -> diccionario de lista de adyacencia \n",
        "\n",
        "    S = [];                                -> lista  \n",
        "    Queue = [];                            -> cola \n",
        "    anterior = [0 for i in range(max(grafo) +1)]; -> lista de 0's con tamaño de grafo para inicializar anterior\n",
        "    distancia = [0 for i in range(max(grafo) +1)] -> lista de 0's con tamaño con tamaño de grafo para inicializar distancia\n",
        "\n",
        "    for nodo in grafo:                        ->recorre el grafo lo añade a una cola retornando la cantidad de nodos en una lista \n",
        "        distancia[nodo] = 10000\n",
        "        Queue.append(nodo)\n",
        "    distancia[Nodos[0]] = 0    -> distancia recorrida en primer nodo es 0\n",
        "\n",
        "    while not len(Queue) == 0:        -> mientras el tamaño de la lista no sea igual a 0 \n",
        "        distancia_minima = 10000      -> la distancia minima es igual a 10000\n",
        "        for nodo in Queue:            ->  recorre la cola/lista \n",
        "            if distancia[nodo] < distancia_minima:  -> si la distancia en el nodo es menor que la distancia minima \n",
        "                distancia_minima = distancia[nodo]  ->la distancia minima es igual a la distancia en el nodo \n",
        "                nodo_temporal = nodo -> crea un nodo temporal\n",
        "        nodo_distancia_minima = nodo_temporal   -> nodo de la distancia minima lo iguala al nodo temporal\n",
        "        Queue.remove(nodo_distancia_minima) -> elimina de la cola el nodo\n",
        "\n",
        "        for vecino in grafo[nodo_distancia_minima]:     -> recorre el nodo vecino en el grafo con la distancia minima\n",
        "            if distancia[nodo_distancia_minima] == 10000: -> si la distancia del nodo de distancia minima es == 100000 \n",
        "                distancia_temporal = 0  -> la distancia temporal es igual a 0\n",
        "            else:                       -> por el contrario \n",
        "                distancia_temporal = distancia[nodo_distancia_minima]  ->la distancia temporal se iguala a la distancia del nodo de distancia minima\n",
        "            distancia_con_peso = distancia_temporal + 1      -> creo variable de distancia con peso y la igual a la distancia temporal +1 ( ya que los enlaces valen peso 1)\n",
        "            if distancia_con_peso < distancia[vecino]:  -> si la distancia con peso es menor a la distancia del vecino \n",
        "                distancia[vecino] = distancia_con_peso  -> la distancia del vecino es igual a la distancia con peso\n",
        "                anterior[vecino] = nodo_distancia_minima -> la ditancia del vecino anterior es igual a la distancia minima\n",
        "\n",
        "        if nodo_distancia_minima == Nodos[1]:        -> si el nodo de distancia minima es igual a Nodos[1]\n",
        "            if anterior[nodo_distancia_minima] != 0 or nodo_distancia_minima ==  Nodos[0]: -> si si la distancia anterior es diferente que 0 o el nodo distancia minima es igual a Nodos[0] \n",
        "                while nodo_distancia_minima != 0:      -> mientras que la distancia minima sea diferente a 0\n",
        "                    S.insert(0, nodo_distancia_minima)     -> se inserta en la lista S nodo con la distancia minima\n",
        "                    nodo_distancia_minima = anterior[nodo_distancia_minima] -> nodo de distancia minima se iguala a nodo de distancia minima anterior\n",
        "                return S  -> retorna en forma de lista S"
      ]
    },
    {
      "cell_type": "markdown",
      "metadata": {
        "id": "P5klDqh_9hGd"
      },
      "source": [
        "##Algoritmo A star (Explicacion algoritmo)\n"
      ]
    },
    {
      "cell_type": "markdown",
      "metadata": {
        "id": "hkgPZsFu-MFw"
      },
      "source": [
        "###def heuristic(current, goal):              -> funcion que me da la heuristica\n",
        "    h = abs(current[0] - goal[0]) + abs(current[1] - goal[1]) ## Operacion de la heuristica manhattan\n",
        "    return h"
      ]
    },
    {
      "cell_type": "markdown",
      "metadata": {
        "id": "lMM89sev-ZS3"
      },
      "source": [
        "### def get_heuristic_value(node):  -> se usara como lambda \n",
        "    return node['global']"
      ]
    },
    {
      "cell_type": "markdown",
      "metadata": {
        "id": "RGE4_QdC9njn"
      },
      "source": [
        "###def Astar(Graph, start, goal, n):              -> funcion A star\n",
        "    current = start  # defino al nodo del inicio como el concurrente\n",
        "    formula para hallar el punto x de un vertice de la posicion de un nodo del tablero\n",
        "    c = start % n + start // n -> vertice x de la celda concurrente\n",
        "    f = start // n -> vertice y de la celda concurrente\n",
        "    c1 = goal % n + goal // n -> vertice x de la celda a la que queremos llegar\n",
        "    f1 = goal // n -> vertice y de la celda a la que queremos llegar\n",
        "    G.nodes[start]['local'] = 0 -> Distancia del nodo en 0 (es el inicio)\n",
        "    G.nodes[start]['global'] = heuristic((c, f), (c1, f1)) -> Distancia del nodo inicial del nodo final\n",
        "    not_tested_nodes = [G.nodes[start]] -> creo una lista y agrego al nodo inicial\n",
        "\n",
        "    while len(not_tested_nodes) != 0 and current != goal: -> mientras que la lista no este vacia y no haya llegado al nodo objetivo\n",
        "\n",
        "        not_tested_nodes.sort(key=get_heuristic_value) -> ordeno la lista, como si fuera una cola de prioridad\n",
        "\n",
        "        while len(not_tested_nodes) != 0 and not_tested_nodes[0]['visited']: -> mientras que la lista no este vacia y el nodo del principio haya sido visitado\n",
        "            not_tested_nodes.pop(0) -> lo elimino\n",
        "\n",
        "        if len(not_tested_nodes) == 0: -> si veo que ya no hay nodos a comprobar, termino el algoritmo\n",
        "            break\n",
        "\n",
        "        current = not_tested_nodes[0]['pos'] -> obtengo la posicion del nodo que está al principio de la lista (constantemente se ordena)\n",
        "        not_tested_nodes[0]['visited'] = True -> marco como visitado al nodo de la primera posicion de la lista\n",
        "\n",
        "        for neighbor in Graph.neighbors(current): -> visito a los vecinos del nodo concurrente\n",
        "            if not G.nodes[neighbor]['visited']: -> si no los he visitado\n",
        "                not_tested_nodes.append(G.nodes[neighbor]) -> los agrego a mi lista de no comprobados\n",
        "            sum = G.nodes[current]['local'] + 1 -> mi peso siempre será 1 (+1), le sumo esa cantidad al peso que ya tengo\n",
        "\n",
        "            if sum < G.nodes[neighbor]['local']: -> si la suma es menor al valor que está actualmente como local en el nodo\n",
        "                G.nodes[neighbor]['padre'] = current -> el nodo concurrente será el padre del nodo evaluado en esta iteracion\n",
        "                print(G.nodes[neighbor]['padre'])\n",
        "                G.nodes[neighbor]['local'] = sum -> su nuevo local, o distancia acumulada será la suma hecha previamente\n",
        "                c = neighbor % n + neighbor // n -> actualizo los valores para obtener la heuristica de ese nodo\n",
        "                f = neighbor // n \n",
        "                G.nodes[neighbor]['global'] = G.nodes[neighbor]['local'] + heuristic((c, f), (c1, f1)) -> el valor global ahora es el valor de la heuristica más lo que había en el local (actualizado previamente)\n"
      ]
    },
    {
      "cell_type": "markdown",
      "metadata": {
        "id": "fGXeK87QCIYg"
      },
      "source": [
        "##Algoritmo bellman ford (Explicacion algoritmo)\n",
        "  def bellman_ford(self, start, end):\n",
        "\n",
        "    ruta = DoubleLinkedList()                       -> variable ruta se inicializa con la lista doblemente enlazada\n",
        "    ruta.push_front(end)        -> se añade al  comienzo de la lista el nodo final\n",
        "    distancia = [float(\"Inf\") for x in range(self.q_nodos)]  -> se inicializa la distancia con una lista de infinito con longitud del tablero \n",
        "    previo = [-1 for x in range(self.q_nodos)]      -> se inicializa el previo con una lista de -1 con longitud del tablero \n",
        "    distancia[start] = 0    -> la distancia en el inicio se inicializa a 0\n",
        "    for iteracion in range(self.q_nodos - 1):   -> recorrido de iteracion a la cantidad de nodos -1\n",
        "      for actual, nodo in enumerate(self.grafo): -> recorrido en el grafo\n",
        "        for adyacente in nodo:  -> recorrido de los nodos adyacentes\n",
        "          if distancia[actual] + 1 < distancia[adyacente]: -> si la distancia actual +1 es menor a la distancia adyacente\n",
        "            distancia[adyacente] = -> distancia[actual] + 1 la distancia adyacente es igual a la distancia actual +1\n",
        "            previo[adyacente] =  -> actual  se actualiza el nodo previo con el actual\n",
        "    anterior = previo[end]  -> se actualiza el nodo previo final\n",
        "    while anterior != -1:    -> mientras el nodo anterior no sea igual a -1\n",
        "      ruta.push_front(anterior)  -> se grega a la lista \n",
        "      anterior = previo[anterior] -> se actualiza el anterior al previo del anterior\n",
        "    return list(ruta) -> returna la lista de la ruta mas corta"
      ]
    },
    {
      "cell_type": "markdown",
      "metadata": {
        "id": "lLl7-KEO5Y2D"
      },
      "source": [
        "\n",
        "#Casos de uso"
      ]
    },
    {
      "cell_type": "code",
      "metadata": {
        "id": "NSc1YGcufnf3",
        "outputId": "9adf3c1b-abe6-46e7-d83c-5d24cc383050",
        "colab": {
          "base_uri": "https://localhost:8080/",
          "height": 255
        }
      },
      "source": [
        "juego = Quoridor()\n",
        "juego.init(5)\n",
        "\n",
        "print(\"Dijkstra\")\n",
        "print(\"Pruebas de caso\")\n",
        "print(\"5*5----------\")\n",
        "print(f\"ruta de 0 a 24 --> {juego.dijsktra((0, 24))}\")\n",
        "print(f\"ruta de 22 a 5 --> {juego.dijsktra((22, 5))}\")\n",
        "print(f\"ruta de 23 a 9 --> {juego.dijsktra((23, 9))}\")\n",
        "\n",
        "print(\"4*4----------\")\n",
        "juego.init(4)\n",
        "\n",
        "print(f\"ruta de 0 a 12 --> {juego.dijsktra((0, 12))}\")\n",
        "print(f\"ruta de 1 a 9 --> {juego.dijsktra((1, 9))}\")\n",
        "print(f\"ruta de 3 a 15 --> {juego.dijsktra((3, 15))}\")\n",
        "\n",
        "print(\"9*9----------\")\n",
        "juego.init(9)\n",
        "\n",
        "print(f\"ruta de 6 a 76 --> {juego.dijsktra((6, 76))}\")\n",
        "print(f\"ruta de 3 a 15 --> {juego.dijsktra((3, 15))}\")\n",
        "print(f\"ruta de 6 a 64 --> {juego.dijsktra((6, 64))}\")\n",
        "\n",
        "\n"
      ],
      "execution_count": null,
      "outputs": [
        {
          "output_type": "stream",
          "text": [
            "Dijkstra\n",
            "Pruebas de caso\n",
            "5*5----------\n",
            "ruta de 0 a 24 --> [1, 2, 3, 4, 9, 14, 19, 24]\n",
            "ruta de 22 a 5 --> [22, 17, 12, 7, 6, 5]\n",
            "ruta de 23 a 9 --> [23, 18, 13, 8, 9]\n",
            "4*4----------\n",
            "ruta de 0 a 12 --> [4, 8, 12]\n",
            "ruta de 1 a 9 --> [1, 5, 9]\n",
            "ruta de 3 a 15 --> [3, 7, 11, 15]\n",
            "9*9----------\n",
            "ruta de 6 a 76 --> [6, 5, 4, 13, 22, 31, 40, 49, 58, 67, 76]\n",
            "ruta de 3 a 15 --> [3, 4, 5, 6, 15]\n",
            "ruta de 6 a 64 --> [6, 5, 4, 3, 2, 1, 10, 19, 28, 37, 46, 55, 64]\n"
          ],
          "name": "stdout"
        }
      ]
    },
    {
      "cell_type": "code",
      "metadata": {
        "id": "rR94Kr-zx-0F",
        "outputId": "b4dfca0f-3b73-4a4a-a7af-85d94fec0f0c",
        "colab": {
          "base_uri": "https://localhost:8080/",
          "height": 119
        }
      },
      "source": [
        "juego.init(3)\n",
        "print(\"Bellman Ford\")\n",
        "print(\"Pruebas de caso\")\n",
        "print(\"3*3----------\")\n",
        "print(f\"ruta de 7 a 1 --> {juego.bellman_ford(1, 7)}\")\n",
        "print(f\"ruta de 8 a 3 --> {juego.bellman_ford(8, 3)}\")\n",
        "print(f\"ruta de 0 a 8 --> {juego.bellman_ford(0, 8)}\")\n",
        "\n",
        "\n"
      ],
      "execution_count": null,
      "outputs": [
        {
          "output_type": "stream",
          "text": [
            "Bellman Ford\n",
            "Pruebas de caso\n",
            "3*3----------\n",
            "ruta de 7 a 1 --> [1, 4, 7]\n",
            "ruta de 8 a 3 --> [8, 5, 4, 3]\n",
            "ruta de 0 a 8 --> [0, 1, 2, 5, 8]\n"
          ],
          "name": "stdout"
        }
      ]
    },
    {
      "cell_type": "code",
      "metadata": {
        "id": "_dUPt0QF6ISk",
        "outputId": "d0c59883-d386-42e7-aa65-218b76b5b3da",
        "colab": {
          "base_uri": "https://localhost:8080/",
          "height": 221
        }
      },
      "source": [
        "    juego = Quoridor()\n",
        "    n = 3\n",
        "    edges = juego.init(n)\n",
        "    G = nx.Graph()\n",
        "    G.add_edges_from(edges)\n",
        "    i = 0\n",
        "    for _, u in G.nodes(data=True):\n",
        "        u['padre'] = None\n",
        "        u['local'] = float('inf')\n",
        "        u['global'] = float('inf')\n",
        "        u['visited'] = False\n",
        "        u['pos'] = i\n",
        "        i = i + 1\n",
        "    print(\"Algoritmo A star\")\n",
        "    print(\"Pruebas de caso\")\n",
        "    print(\"3*3----------\")\n",
        "    print(\"ruta de 1 a 7 -->\")\n",
        "    Astar(G, 1, 7, n)\n"
      ],
      "execution_count": null,
      "outputs": [
        {
          "output_type": "stream",
          "text": [
            "Algoritmo A star\n",
            "Pruebas de caso\n",
            "3*3----------\n",
            "ruta de 1 a 7 -->\n",
            "1\n",
            "1\n",
            "1\n",
            "4\n",
            "4\n",
            "4\n",
            "7\n",
            "7\n"
          ],
          "name": "stdout"
        }
      ]
    }
  ]
}