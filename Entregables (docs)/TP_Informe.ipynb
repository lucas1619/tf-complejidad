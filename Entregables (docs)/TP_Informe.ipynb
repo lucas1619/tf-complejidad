{
  "nbformat": 4,
  "nbformat_minor": 0,
  "metadata": {
    "colab": {
      "name": "TP_Informe.ipynb",
      "provenance": [],
      "collapsed_sections": [],
      "toc_visible": true
    },
    "kernelspec": {
      "name": "python3",
      "display_name": "Python 3"
    }
  },
  "cells": [
    {
      "cell_type": "markdown",
      "metadata": {
        "id": "WxppwDLKB1gj"
      },
      "source": [
        "![](https://www.laureate.net/wp-content/uploads/2019/03/10-UPC-Universidad-Peruana-de-Ciencias-Aplicadas.png)\n",
        "<center><b>Complejidad Algorítmica – CC41</b></center> <br>\n",
        "<center><b>Trabajo Parcial</b></center> <br>\n",
        "<center> Carrera de Ingeniería de Software y Ciencias de la computación</center>\n",
        "<br>\n",
        "\n",
        "\n",
        "\n",
        "<center>u201711783 - Villegas Celis Carolina Milagros</center>\n",
        "<center>u201914955 - Mendez Pastor Brigitte Melody</center>\n",
        "<center>u201917621 - Moreno Olivos Lucas Alejandro</center>"
      ]
    },
    {
      "cell_type": "markdown",
      "metadata": {
        "id": "FOSydxfmdW3l"
      },
      "source": [
        "# Link de la documentación del código\n",
        "https://colab.research.google.com/drive/17izFcQetKJ6KNvODLTDSKguBx0DBjsg8?usp=sharing\n",
        "\n",
        "#Link de github\n",
        "https://github.com/lucas1619/tf-complejidad"
      ]
    },
    {
      "cell_type": "markdown",
      "metadata": {
        "id": "oth65QPxudan"
      },
      "source": [
        "# Introducción\n",
        "\n",
        "El encontrar un camino más corto para llegar de un lugar a otro es algo muy importante para las empresas de delivery ahora, mientras más rápido llegas, más clientes obtienes; asimismo, en los juegos como los laberintos, el encontrar el camino hacia el final es muy importante por si estás jugando con otros compañeros y el que encuentra el camino gana, nuestro presente trabajo se trata del juego Quoridor, un juego que tiene como objetivo llegar primero hasta la base del rival. Además, en cada turno se debe escoger entre colocar dificultades como muros o avanzar. Dicho juego lo vamos a tratar como un problema de \"Path Finding\" donde se busca encontrar la ruta más corta entre dos nodos de un grafo con algoritmos eficientes considerando el tiempo de ejecución, el espacio en disco y la complejidad del mismo."
      ]
    },
    {
      "cell_type": "markdown",
      "metadata": {
        "id": "F6Cov2sYuLka"
      },
      "source": [
        "# Marco Teórico\n",
        "\n",
        "## Complejidad Algorítmica\n",
        "\n",
        "La complejidad algorítmica es una métrica que nos ayuda a describir el comportamiento de un algoritmo en términos de tiempo de ejecución y la memoria que requiere. Un problema puede tener distintas soluciones, pero más importante que hallar una solución es que esta sea viable y eficaz, el medir la complejidad de los algoritmos nos ayuda a saber cuál es el que debemos implementar.\n",
        "Al tiempo de ejecución se le llama complejidad temporal y a la memoria requerida para solucionar un problema se le llama complejidad espacial, ambos dependen del tamaño del problema. La complejidad algorítmica no depende siempre del tiempo de ejecución, la cantidad de memoria consumida, el sistema en donde se corra el algoritmo y el estilo de programación implementado, sino del número de instrucciones necesarias para resolver el problema. Sin embargo, esto no siempre es así, los algoritmos de búsqueda y ordenamiento son una prueba de ello pues estos iteran hasta llegar a la solución deseada, estos algoritmos presentan el mejor y peor caso, por ejemplo: el mejor caso para el algoritmo de búsqueda sería cuando el número a buscar sea el primero del arreglo y el peor cuando este sea el último del arreglo. En la notación, se suele emplear la **contracción**, por ejemplo un algoritmo de complejidad Θ(3n² + 5n + 9) se reduce a Θ(n²), a continuación una tabla que muestra los órdenes de complejidad más comunes:\n",
        "\n",
        "![](https://miro.medium.com/max/390/1*A32Od1e1ZXSSGwuSP6N7vg.png)\n",
        "\n",
        "\n",
        "## Pathfinding\n",
        "Se le denomina de esta manera al área de inteligencia artificial que tiene como objetivo encontrar el mejor camino de un \n",
        "punto a otro en mapas representados digitalmente . Estos algoritmos tienen que definir por dónde dirigirse, basados en la información\n",
        "que se tiene del ambiente. Existen diversos tipos de algoritmos como A*, ACO, JPS, etc que buscan reducir el tiempo de búsqueda y los\n",
        "recursos utilizados, con el objetivo de hacer más eficiente la tarea. En este proyecto usaremos algunos de ellos y compararemos su eficiencia.\n",
        "\n",
        "![](https://media.geeksforgeeks.org/wp-content/uploads/a_-search-algorithm-1.png)"
      ]
    },
    {
      "cell_type": "markdown",
      "metadata": {
        "id": "GkWghGf1ul-Y"
      },
      "source": [
        "# Estado del arte\n",
        "\n",
        "## Algoritmos a utilizar\n",
        "\n",
        "- Algoritmo A Star\n",
        "- Algoritmo Dijkstra\n",
        "- Bellman Ford\n",
        "\n",
        "### Algoritmo de Dijkstra\n",
        "\n",
        "El algoritmo de Dijkstra (también llamado Búsqueda de costo uniforme) nos permite priorizar qué caminos explorar. En lugar de explorar todas las rutas posibles por igual, favorece las rutas de menor costo. Por lo que se le pueden asignar rutas a los vertices. Por ello la idea del algoritmo consiste en ir explorando todos los caminos más cortos que parten del vértice origen y que llevan a todos los demás vértices; cuando se obtiene el camino más corto desde el vértice origen hasta el resto de los vértices que componen el grafo, el algoritmo se detiene. \n",
        "\n",
        "#### Pseudocodigo\n",
        "\n",
        "![](https://www.researchgate.net/profile/T_Sanguankotchakorn/publication/232636583/figure/fig2/AS:667635717009428@1536188167917/The-Pseudo-Code-for-the-k-Shortest-Path-Dijkstra-Algorithm.png)\n",
        "![](https://media.geeksforgeeks.org/wp-content/uploads/a_-search-algorithm-1.png)\n",
        "\n",
        "#### **Complejidad del algoritmo** \n",
        "\n",
        "El algoritmo consiste en n-1 iteraciones, como máximo. En cada iteración, se añade un vértice al conjunto distinguido.\n",
        "En cada iteración, se identifica el vértice con la menor etiqueta entre los que no están en Sk. El número de estas operaciones está acotado por n-1.\n",
        "Además, se realizan una suma y una comparación para actualizar la etiqueta de cada uno de los vértices que no están en Sk.\n",
        "Luego, en cada iteración se realizan a lo sumo 2(n-1) operaciones.\n",
        "\n",
        "Entonces:\n",
        "\n",
        "Teorema: El algoritmo de Dijkstra realiza O(n2) operaciones (sumas y comparaciones) para determinar la longitud del camino más corto entre dos vértices de un grafo ponderado simple, conexo y no dirigido con n vértices.\n",
        "\n",
        "En conclusión\n",
        "\n",
        "Tiempo de ejecución = O(|A|.𝑻_𝒅𝒌+|v|.𝑻_𝒅𝒎)\n",
        "donde:\n",
        "|A|: Número de aristas\n",
        "𝑻_𝒅𝒌: Complejidad de disminuir clave\n",
        "|V|: Número de vértices\n",
        "𝑻_𝒅𝒎: Complejidad de extraer mínimo\n",
        "\n",
        "\n",
        "\n",
        "\n",
        "\n",
        "### Algoritmo Bellman Ford\n",
        "\n",
        "El algoritmo de Bellman-Ford es un algoritmo que calcula las rutas más cortas desde un único vértice de origen a todos los demás vértices en un dígrafo ponderado de igual manera trabaja con pesos. Su funcionamiento consiste en partir de un vértice origen que será ingresado luego Bellman-Ford relaja todas las aristas y lo hace |V| – 1 veces, siendo |V| el número de vértices del grafo. Las repeticiones permiten a las distancias mínimas recorrer el árbol, ya que en la ausencia de ciclos negativos, el camino más corto solo visita cada vértice una vez. A diferencia de la solución voraz, la cual depende de la suposición de que los pesos sean positivos, esta solución se aproxima más al caso general.\n",
        "\n",
        "#### Pseudocodigo\n",
        "\n",
        "![](https://fotos.subefotos.com/6fc7a4eeb709b806b6512c76868f5088o.png)\n",
        "\n",
        "\n",
        "**Complejidad del algoritmo** \n",
        "\n",
        "La idea fuerte del algoritmo es que si el grafo tiene V  nodos, alcanza con recorrer las aristas V−1 veces. Se ve entonces que la complejidad del algoritmo es **O(V.E)** donde V es la cantidad de vértices y E la de aristas. \n",
        "\n",
        "\n",
        "### Algoritmo A Star\n",
        "Es una de las mejores técnicas para búsqueda de rutas y recorridos de grafos. A diferencia de otros, este es un algoritmo inteligente, muchos juegos utilizan este algoritmo para encontrar el camino más corto de forma __eficiente__ , cualidad que es altamente importante para este trabajo. Usaremos este algoritmo para poder encontrar el camino más corto a la meta y lo modificaremos de acuerdo a las condiciones que considera el juego **Quoridor**, de acuerdo al juego, el tablero se representará por un grafo.\n",
        " \n",
        "\n",
        "**A continuación la explicación de este algoritmo:**\n",
        " \n",
        "Tenemos un grafo con múltiples nodos, y queremos llegar a un nodo específico desde el primer nodo lo más rápido posible.\n",
        " \n",
        "Lo que hace el Algoritmo A* es que en cada paso elige un nodo de acuerdo a un valor __f__ que es la suma de __g__ y __h__, en cada paso elige el nodo con el menor valor de __f__ y continua el camino:\n",
        " \n",
        "![alt text](https://latex.codecogs.com/gif.latex?f%28n%29%20%3D%20g%28n%29%20&plus;%20h%28n%29)\n",
        " \n",
        "* n :     nodo previo en el camino\n",
        " \n",
        "* g(n) :  costo del camino del nodo del inicio hasta n\n",
        " \n",
        "* h(n) :  una heurística que estima el costo del camino más corto desde n hasta el nodo deseado\n",
        " \n",
        "Consideremos que el grafo es este:\n",
        "\n",
        "![alt text](https://i.ibb.co/db1H6Hp/graph.png)\n",
        " \n",
        "Los números escritos en azul en las aristas representan la distancia entre los nodos y los números escritos con rojo representan el valor de la heurística\n",
        " \n",
        "El algoritmo A* usa está formula  ![alt text](https://latex.codecogs.com/gif.latex?f%28n%29%20%3D%20g%28n%29%20&plus;%20h%28n%29)  para encontrar el camino más corto.\n",
        "\n",
        "\n",
        " \n",
        "**Ejemplo: Queremos encontrar el camino más corto entre A y J**\n",
        " \n",
        "\n",
        "\n",
        "**Nodo de inicio es A**\n",
        " \n",
        "A se relaciona con B y F\n",
        " \n",
        "Calcularemos el F(B) y el F(F)\n",
        " \n",
        "F(B) = 6 + 8 = 14\n",
        " \n",
        "F(F) = 3 + 6 = 9\n",
        " \n",
        "El menor es F(F), F será nuestro nuevo nodo de inicio\n",
        "\n",
        "\n",
        "\n",
        " \n",
        "**Nodo de inicio es F**\n",
        " \n",
        "F se relaciona con G y H\n",
        " \n",
        "Calcularemos el F(G) y el F(H)\n",
        " \n",
        "F(G) = 4 + 5 = 9 ----> 4 = 3 + 1 ---> COSTO DEL CAMINO HASTA AHORA\n",
        " \n",
        "F(H) = 10 + 3 = 13 ----> 10 = 3 + 7 ---> COSTO DEL CAMINO HASTA AHORA\n",
        " \n",
        "El menor es F(G), G será nuestro nuevo nodo de inicio\n",
        "\n",
        "\n",
        "\n",
        " \n",
        "**Nodo de inicio es G**\n",
        " \n",
        "G solo se relaciona con I\n",
        " \n",
        "Calcularemos el F(I)\n",
        " \n",
        "F(I) = 7 + 1 = 8 ----> 7 = 3 + 1 + 3  ---> COSTO DEL CAMINO HASTA AHORA\n",
        " \n",
        "I será el nuevo nodo de inicio\n",
        "\n",
        "\n",
        "\n",
        " \n",
        "**Nodo de inicio es I**\n",
        " \n",
        "I se relaciona con E, H y J\n",
        " \n",
        "Calcularemos el F(E), el F(H) y el F(J)\n",
        " \n",
        "F(E) = 12 + 3 = 15 ----> 12 = 3 + 1 + 3 + 5 ---> COSTO DEL CAMINO HASTA AHORA\n",
        " \n",
        "F(H) = 9 + 3 = 12 ----> 10 = 3 + 1 + 3 + 2 ---> COSTO DEL CAMINO HASTA AHORA\n",
        " \n",
        "F(J) = 10 + 0 = 10 ----> 10 = 3 + 1 + 3 + 3 ---> COSTO DEL CAMINO HASTA AHORA\n",
        " \n",
        "El menor es F(J), J será nuestro nuevo nodo de inicio\n",
        "\n",
        " \n",
        "\n",
        "\n",
        "**Como queriamos llegar al nodo J paramos ahí.**\n",
        " \n",
        "Así quedaría el recorrido:\n",
        "\n",
        "![alt text](https://i.ibb.co/dDtthQY/path-graph.png)\n",
        "El camino fue **A F G I J**\n",
        " \n",
        "##Pseudocódigo\n",
        "\n",
        "![alt text](https://i.ibb.co/2PvY2Gk/astarpseudocode.png)\n",
        "\n",
        "\n",
        "**Complejidad del algoritmo:**\n",
        "\n",
        "Puede llevarnos viajar por todo el borde del grafo desde el nodo origen hasta el nodo que deseemos. Entonces, en el peor de los casos su complejidad es\n",
        " \n",
        "![alt text](https://latex.codecogs.com/gif.latex?O%28E%29) \n",
        "\n",
        "E: Número de aristas en el gráfico \n",
        "\n",
        "\n",
        "## Espacio de búsqueda de cada algoritmo:\n",
        "\n",
        "\n",
        "### Bellman Ford\n",
        "\n",
        "El espacio de busqueda de Bellman Ford debido a su naturaleza voraz encuentra el camino en un tiempo menor a comparación de los otros. Debido a que al  seleccionar vorazmente el nodo de peso mínimo aun sin procesar simplemente relaja todas las aristas, y lo hace |V|-1 veces, siendo |V| el número de vértices en el grafo.\n",
        "\n",
        "### Algoritmo Dijkstra\n",
        "\n",
        "El espacio de búsqueda de este algoritmo funciona bien para encontrar el camino más corto, pero pierde tiempo explorando en direcciones que no son prometedoras.\n",
        "Debido a que trabaja por etapas, y toma en cada etapa la mejor solución sin considerar consecuencias futuras. Sin embargo el óptimo encontrado en una etapa puede modificarse posteriormente si surge una solución mejor. \n",
        "       \n",
        "![alt text](https://fotos.subefotos.com/03b2af99e84c3d92e4d55bfb85c92a59o.png)\n",
        "### Algoritmo A Star\n",
        "\n",
        "El espacio de búsqueda de este algoritmo es menor que el de Dijkstra, pues mientras Dijkstra considera caminos que no son prometedores, A Star al usar una cola de prioridad, ordena a los nodos de acuerdo al menor valor obtenido de la heurística, la cual es la distancia estimada del nodo en el que nos encontramos hasta el nodo al que queremos llegar. De tal manera que obtenemos y exploramos el nodo más cercano al nodo final. El valor obtenido de la heuristica es sumado a la distancia entre nodo concurrente y el nodo, lo cual nos permite obtener el camino más corto y más rápido.\n",
        "\n",
        "Este sería gráficamente el espacio de búsqueda que ocupa el algoritmo A Star en un tablero 15 x 15 :\n",
        "\n",
        "![alt text](https://i.ibb.co/fxvWP29/astar.png)\n",
        "\n",
        " \n",
        "\n",
        "\n",
        "\n",
        "\n",
        "\n"
      ]
    },
    {
      "cell_type": "markdown",
      "metadata": {
        "id": "tiGFqHVguuYY"
      },
      "source": [
        "# Metodología\n",
        "La metodología que usamos para resolver este problema se divide en tres partes:\n",
        "\n",
        "1. Investigación\n",
        "\n",
        "2. Desarrollo\n",
        "\n",
        "3. Tests y Experimentos\n",
        "\n",
        "### 1. Investigación\n",
        "Para dar inicio a la investigación, primero indagamos acerca del problema, debido a ello pudimos observar que debíamos hacer uso de algoritmos relacionados a la busqueda del camino más corto. Usaremos estos algoritmos para el movimiento de los peones a través de los obstáculos  o ,en otras palabras, Pathfinding. Asimismo, buscamos algoritmos que podrían ser útiles para nuestro trabajo, los que encontramos fueron A*, Dijkstra y Bellman Ford. Además, se hizo uso de la libreria pygames, para la parte gráfica del juego (representación del tablero y peones).\n",
        "\n",
        "\n",
        "### 2. Desarrollo\n",
        "\n",
        "En primer lugar, implementamos una lista doblemente enlazada, lo siguiente fue implementar un grafo, el cual era la combinación de un vector de listas doblemente enlazadas y dentro de ello, una función que permitía que las conexiones entre nodos se almacenen como listas de adyacencia. Elegimos implementarlo de esta manera, debido a que deseamos un acceso constante a los nodos, eso lo obtenemos del vector de listas doblemente enlazadas y además, un almacenado dinámico a sus adyacentes y la lista doblemente enlazada permite ello. De tal manera, que las operaciones de acceso e insertado en nuestro juego sean de O(1)\n",
        "\n",
        "En segundo lugar, nuestro  objetivo fue implementar los algoritmos de path-finding. Con el proposito de avanzar el trabajo de manera más rápida, al ser un grupo de 3 integrantes, cada integrante implemento uno de los algoritmos de path-finding de acuerdo al grafo construido previamente. Al testear que los algoritmos funcionaban y encuentraban las rutas adecuadas pasamos al siguiente paso.\n",
        "\n",
        "En tercer lugar, separamos el código de manera estructurada y ordenada haciendo uso del paradigma de la Programación Orientada a Objetos, debido a que cada uno trabajo por su cuenta, el código estaba desordenado y decidimos ordenarlo en clases, las clases que identificamos fueron:\n",
        "\n",
        "- Clase Lista Doblemente Enlazada (clase que contiene la implementación de la lista)\n",
        "- Clase Tablero (clase que contiene la implementación del grafo entre otras funcionalidades del mismo)\n",
        "- Clase Jugador (clase que contiene todas las funcionalidades del peon del juego)\n",
        "- Clase Pensamiento (clase que contiene los algoritmos que seguirán los peones)\n",
        "- Clase Quoridor (clase que contiene todo el juego)\n",
        "\n",
        "En cuarto lugar, implementamos el pensamiento del jugador, ejemplo: cuando saltar, cuando cambiar de ruta, cuando retroceder, cuando seguir si ve que todo está tranquilo, y también implementamos la función mover, la cual después de pensar moverá el circulo arriba, abajo, a la izquierda o derecha.\n",
        "\n",
        "En quinto lugar, implementamos la parte gráfica con la ayuda de la librería pygames, definiendo a cada nodo como un cuadrado del tablero y al peón como un circulo dentro de este.\n",
        "\n",
        "En último lugar, testeamos el juego de distintas maneras, lo cual nos confirmo que los algoritmos funcionaban de manera correcta y nos detallo el tiempo que demoraba cada uno de acuerdo al tablero dado. Además, los algoritmos que eran más eficientes para el caso. Debido a que no contamos con paredes, el desenvolvimiento de los algoritmos fueron muy similares, pues no hay barreras y tienen el camino libre, además de una distancia de 1 entre cada nodo. En la entrega final se podrá apreciar de mejor manera el desenvolvimiento de los tres algoritmos implementados en este trabajo.\n",
        "\n",
        "### 3. Tests y Experimentos\n",
        "\n",
        "La forma en la cual haremos los test es dandole como entrada el tamaño del tablero y midiendo el tiempo de ejecucion.\n",
        "\n",
        "Para esta tarea, primero necesitamos una manera en la cual medir el tiempo de cada juego, por ello se diseño el siguiente método dentro de la clase Quoridor\n",
        "\n",
        "\n"
      ]
    },
    {
      "cell_type": "code",
      "metadata": {
        "id": "rFQmD4iihKk3"
      },
      "source": [
        "    def test(self, alg):\n",
        "        print(\"Comenzo\")\n",
        "        start_time = time.time()\n",
        "        self.ganador = False\n",
        "        self.turno = 0\n",
        "        for i in range(len(self.lista_de_jugadores)):\n",
        "            self.lista_de_jugadores[i].pensamiento.indica = alg\n",
        "        while self.ganador == False:\n",
        "            self.lista_de_jugadores[self.turno].piensa(\n",
        "                self.lista_de_jugadores[(self.turno + 1) % len(self.lista_de_jugadores)], self.tablero)\n",
        "            self.ganador = self.lista_de_jugadores[self.turno].mueve(\n",
        "                self.lista_de_jugadores[(self.turno + 1) % len(self.lista_de_jugadores)],\n",
        "                self.tablero)\n",
        "            self.turno = (self.turno + 1) % len(self.lista_de_jugadores)\n",
        "        elapsed_time = time.time() - start_time\n",
        "        return elapsed_time*1000.0"
      ],
      "execution_count": null,
      "outputs": []
    },
    {
      "cell_type": "markdown",
      "metadata": {
        "id": "O29RHG6AhV8z"
      },
      "source": [
        "Despues necesitabamos una forma en la cual recopilar el tiempo que nos retorna el método test, para ello se diseño el siguiente algoritmo:"
      ]
    },
    {
      "cell_type": "code",
      "metadata": {
        "id": "kZ2MfsJ1noV2"
      },
      "source": [
        "from Quoridor import Quoridor\n",
        "import matplotlib.pyplot as plt\n",
        "def main():\n",
        "    algoritmos = [1,2,3]\n",
        "    titulo = [\"Bellman Ford\", \"Dijikstra\", \"A Star\"]\n",
        "    tiempos = [] #guarda los tiempos\n",
        "    tam = [] #guarda los tamaños\n",
        "    for i,algoritmo in enumerate(algoritmos):\n",
        "        size = 5\n",
        "        while(size <= 5000):\n",
        "            game = Quoridor(size, 2)\n",
        "            tiempos.append(game.test(algoritmo))\n",
        "            tam.append(size)\n",
        "            if(tiempos[len(tiempos) - 1] > 60000):\n",
        "                break\n",
        "            if size < 10:\n",
        "                size += 5\n",
        "            elif size < 100:\n",
        "                size +=10\n",
        "            elif size < 1000:\n",
        "                size += 100\n",
        "            else:\n",
        "                size += 500\n",
        "        #hacer para que matplotlib genere el grafico\n",
        "        plt.plot(tam, tiempos)\n",
        "        plt.title(titulo[i], fontsize=22)\n",
        "        plt.xlabel(\"Tamaño del tablero\", fontsize=18)\n",
        "        plt.ylabel(\"Tiempo en ms\", fontsize=18)\n",
        "        plt.show()\n",
        "        #limpiamos\n",
        "        tiempos.clear()\n",
        "        tam.clear()"
      ],
      "execution_count": 5,
      "outputs": []
    },
    {
      "cell_type": "code",
      "metadata": {
        "id": "zPNeA8LcoAD0",
        "outputId": "74ff655f-9c25-4670-de84-62ccf26bf98e",
        "colab": {
          "base_uri": "https://localhost:8080/",
          "height": 893
        }
      },
      "source": [
        "\n",
        "main()"
      ],
      "execution_count": 6,
      "outputs": [
        {
          "output_type": "display_data",
          "data": {
            "image/png": "[encoded data removed]",
            "text/plain": [
              "<Figure size 432x288 with 1 Axes>"
            ]
          },
          "metadata": {
            "tags": [],
            "needs_background": "light"
          }
        },
        {
          "output_type": "display_data",
          "data": {
            "image/png": "[encoded data removed]",
            "text/plain": [
              "<Figure size 432x288 with 1 Axes>"
            ]
          },
          "metadata": {
            "tags": [],
            "needs_background": "light"
          }
        },
        {
          "output_type": "display_data",
          "data": {
            "image/png": "[encoded data removed]",
            "text/plain": [
              "<Figure size 432x288 with 1 Axes>"
            ]
          },
          "metadata": {
            "tags": [],
            "needs_background": "light"
          }
        }
      ]
    },
    {
      "cell_type": "code",
      "metadata": {
        "id": "c8tuTvDs6vQ_"
      },
      "source": [
        ""
      ],
      "execution_count": null,
      "outputs": []
    }
  ]
}
